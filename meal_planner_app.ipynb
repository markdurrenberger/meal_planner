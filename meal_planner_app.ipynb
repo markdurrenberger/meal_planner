{
 "cells": [
  {
   "cell_type": "markdown",
   "metadata": {},
   "source": [
    "Working on the code here for iterative purposes"
   ]
  },
  {
   "cell_type": "code",
   "execution_count": 1,
   "metadata": {},
   "outputs": [],
   "source": [
    "import os"
   ]
  },
  {
   "cell_type": "code",
   "execution_count": 10,
   "metadata": {},
   "outputs": [],
   "source": [
    "# Sample format of storing meals\n",
    "\n",
    "meals = [{\n",
    "    'name': 'better than takeout sweet thai basil chicken',\n",
    "    'ingredients': {\n",
    "        'ground chicken' : '1 pound',\n",
    "        'seasame oil' : '2 tablespoons',\n",
    "        'black pepper' : 'to taste',\n",
    "        'garlic' : '4 cloves',\n",
    "        'ginger' : '1 inch, grated',\n",
    "        'bell pepper, red or orange' : '2, chopped',\n",
    "        'cashews' : '1/2 cup',\n",
    "        'soy sauce, low sodium' : '1/2 cup',\n",
    "        'fish sauce' : '2 tablespoons',\n",
    "        'honey' : '1/4 cup',\n",
    "        'chili paste, sambal oelek' : '2-3 tablespoons',\n",
    "        'basil' : '1 cup, torn',\n",
    "        'mint' : '1/4 cup, torn',\n",
    "        'rice, white or brown' : 'as needed',\n",
    "        'mango' : '1, sliced or diced'\n",
    "    },\n",
    "    'instructions': {\n",
    "        1 : '''Heat the oil in a large skillet over medium heat. When the oil shimmers, add the chicken. Season with black pepper and brown all over, breaking the chicken up as it cooks, about 5 minutes. Add the garlic, ginger, peppers, and cashews, cook another 2-3 minutes, until the garlic is fragrant. Pour in the soy sauce, fish sauce, chili paste, and honey. Bring the sauce to a boil over medium-high heat and cook until the sauce coats the chicken, about 5-8 minutes.''',\n",
    "        2 : '''Remove from the heat and stir in the basil and mint.''',\n",
    "        3 : '''Serve the chicken and sauce over bowls of rice. Top with mangos and additional basil. Enjoy!'''\n",
    "    },\n",
    "    'cuisine' : ['thai','asian'],\n",
    "    'tags' : ['easy leftovers', 'one pot meal', 'spicy']\n",
    "             }]"
   ]
  },
  {
   "cell_type": "code",
   "execution_count": 12,
   "metadata": {},
   "outputs": [],
   "source": [
    "# Code that will output the list of dictionaries (meals) to a file\n",
    "import json\n",
    "output_file = open('meals.json', 'w', encoding='utf-8')\n",
    "\n",
    "for dic in meals :\n",
    "    json.dump(dic, output_file)\n",
    "    output_file.write('\\n')"
   ]
  },
  {
   "cell_type": "code",
   "execution_count": null,
   "metadata": {},
   "outputs": [],
   "source": [
    "# Main menu\n",
    "from IPython.display import clear_output\n",
    "\n",
    "while True:\n",
    "    choice = int(input('''1: Get meal suggestion\n",
    "2: Add a meal\n",
    "3: Check my meals\n",
    "-----------------\n",
    "What do you want to do? '''))\n",
    "    if choice not in (1,2,3):\n",
    "        print('\\nPlease choose 1, 2 or 3')\n",
    "        clear_output(wait=True)\n",
    "        continue\n",
    "    else:\n",
    "        break"
   ]
  },
  {
   "cell_type": "code",
   "execution_count": null,
   "metadata": {},
   "outputs": [],
   "source": [
    "# Option 1 - get a meal recommendation\n",
    "input(\"what do you want?\")"
   ]
  },
  {
   "cell_type": "code",
   "execution_count": null,
   "metadata": {},
   "outputs": [],
   "source": [
    "# Option 2 - add a new meal\n",
    "def add_meal():\n",
    "    '''This function will ask the user for inputs to create a new meal, then add the meal\n",
    "    to the meals database and print to file.'''\n",
    "     \n",
    "    # Create new_meal (a dict that gets populated through inputs) then append to meals at end\n",
    "       \n",
    "    ### Ask user for inputs (store all as lowercase)\n",
    "    # Ask user for name\n",
    "    \n",
    "    # Ask user ingredients, one at a time: ingredient, then amount, then ask if any more \n",
    "    \n",
    "    # Ask for instructions - first, second third step, etc. (number them)\n",
    "    \n",
    "    # Append the new dict (new_meal) to meals (list of meals)\n",
    "    "
   ]
  },
  {
   "cell_type": "code",
   "execution_count": 7,
   "metadata": {},
   "outputs": [
    {
     "ename": "AttributeError",
     "evalue": "'int' object has no attribute 'values'",
     "output_type": "error",
     "traceback": [
      "\u001b[1;31m---------------------------------------------------------------------------\u001b[0m",
      "\u001b[1;31mAttributeError\u001b[0m                            Traceback (most recent call last)",
      "\u001b[1;32m<ipython-input-7-cd0982f364b2>\u001b[0m in \u001b[0;36m<module>\u001b[1;34m\u001b[0m\n\u001b[0;32m      8\u001b[0m \u001b[1;33m\u001b[0m\u001b[0m\n\u001b[0;32m      9\u001b[0m \u001b[1;31m# The above will be the definition for the function that I create below\u001b[0m\u001b[1;33m\u001b[0m\u001b[1;33m\u001b[0m\u001b[1;33m\u001b[0m\u001b[0m\n\u001b[1;32m---> 10\u001b[1;33m \u001b[0mprint\u001b[0m\u001b[1;33m(\u001b[0m\u001b[1;33m[\u001b[0m\u001b[0mmeals_dict\u001b[0m\u001b[1;33m[\u001b[0m\u001b[1;34m'name'\u001b[0m\u001b[1;33m]\u001b[0m \u001b[1;32mfor\u001b[0m \u001b[0mi\u001b[0m \u001b[1;32min\u001b[0m \u001b[0mmeals_dict\u001b[0m\u001b[1;33m[\u001b[0m\u001b[1;34m'index'\u001b[0m\u001b[1;33m]\u001b[0m\u001b[1;33m.\u001b[0m\u001b[0mvalues\u001b[0m\u001b[1;33m]\u001b[0m\u001b[1;33m)\u001b[0m\u001b[1;33m\u001b[0m\u001b[1;33m\u001b[0m\u001b[0m\n\u001b[0m",
      "\u001b[1;31mAttributeError\u001b[0m: 'int' object has no attribute 'values'"
     ]
    }
   ],
   "source": [
    "# Option 3 - view existing meals\n",
    "def view_meals():\n",
    "    '''This is the function that will run when someone selects option\n",
    "    3 from the menu\n",
    "    \n",
    "    Just prints a list of available meals'''\n",
    "    pass\n",
    "\n",
    "# The above will be the definition for the function that I create below\n",
    "print([meals_dict['name'] for i in meals_dict['index'].values])"
   ]
  },
  {
   "cell_type": "code",
   "execution_count": null,
   "metadata": {},
   "outputs": [],
   "source": []
  }
 ],
 "metadata": {
  "kernelspec": {
   "display_name": "Python 3",
   "language": "python",
   "name": "python3"
  },
  "language_info": {
   "codemirror_mode": {
    "name": "ipython",
    "version": 3
   },
   "file_extension": ".py",
   "mimetype": "text/x-python",
   "name": "python",
   "nbconvert_exporter": "python",
   "pygments_lexer": "ipython3",
   "version": "3.7.6"
  }
 },
 "nbformat": 4,
 "nbformat_minor": 4
}
