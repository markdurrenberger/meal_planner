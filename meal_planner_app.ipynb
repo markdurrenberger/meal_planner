{
 "cells": [
  {
   "cell_type": "markdown",
   "metadata": {},
   "source": [
    "Working on the code here for iterative purposes"
   ]
  },
  {
   "cell_type": "code",
   "execution_count": 1,
   "metadata": {},
   "outputs": [],
   "source": [
    "import os"
   ]
  },
  {
   "cell_type": "code",
   "execution_count": 15,
   "metadata": {},
   "outputs": [],
   "source": [
    "# Sample format of storing meals\n",
    "\n",
    "meals = [{\n",
    "    'name': 'better than takeout sweet thai basil chicken',\n",
    "    'ingredients': {\n",
    "        'ground chicken' : '1 pound',\n",
    "        'seasame oil' : '2 tablespoons',\n",
    "        'black pepper' : 'to taste',\n",
    "        'garlic' : '4 cloves',\n",
    "        'ginger' : '1 inch, grated',\n",
    "        'bell pepper, red or orange' : '2, chopped',\n",
    "        'cashews' : '1/2 cup',\n",
    "        'soy sauce, low sodium' : '1/2 cup',\n",
    "        'fish sauce' : '2 tablespoons',\n",
    "        'honey' : '1/4 cup',\n",
    "        'chili paste, sambal oelek' : '2-3 tablespoons',\n",
    "        'basil' : '1 cup, torn',\n",
    "        'mint' : '1/4 cup, torn',\n",
    "        'rice, white or brown' : 'as needed',\n",
    "        'mango' : '1, sliced or diced'\n",
    "    },\n",
    "    'instructions': {\n",
    "        1 : '''Heat the oil in a large skillet over medium heat. When the oil shimmers, add the chicken. Season with black pepper and brown all over, breaking the chicken up as it cooks, about 5 minutes. Add the garlic, ginger, peppers, and cashews, cook another 2-3 minutes, until the garlic is fragrant. Pour in the soy sauce, fish sauce, chili paste, and honey. Bring the sauce to a boil over medium-high heat and cook until the sauce coats the chicken, about 5-8 minutes.''',\n",
    "        2 : '''Remove from the heat and stir in the basil and mint.''',\n",
    "        3 : '''Serve the chicken and sauce over bowls of rice. Top with mangos and additional basil. Enjoy!'''\n",
    "    },\n",
    "    'cuisine' : ['thai','asian'],\n",
    "    'tags' : ['easy leftovers', 'one pot meal', 'spicy']\n",
    "             },\n",
    "    {'name': 'test',\n",
    "    'ingredients': {\n",
    "        'pass' : 'pass',\n",
    "        'pass' : 'pass'\n",
    "    },\n",
    "    'instructions': {\n",
    "        1 : '''pass''',\n",
    "        2 : '''Remove from the heat and stir in the basil and mint.'''\n",
    "    },\n",
    "    'cuisine' : ['test', 'test'],\n",
    "    'tags' : ['pass', 'pass']\n",
    "        \n",
    "    }\n",
    "]"
   ]
  },
  {
   "cell_type": "code",
   "execution_count": 18,
   "metadata": {},
   "outputs": [],
   "source": [
    "# Code that will output the list of dictionaries (meals) to a file\n",
    "import json\n",
    "output_file = open('meals.json', 'w', encoding='utf-8')\n",
    "\n",
    "for dic in meals :\n",
    "    json.dump(dic, output_file)\n",
    "    output_file.write('\\n')"
   ]
  },
  {
   "cell_type": "code",
   "execution_count": null,
   "metadata": {},
   "outputs": [],
   "source": [
    "# Main menu\n",
    "from IPython.display import clear_output\n",
    "\n",
    "while True:\n",
    "    choice = int(input('''1: Get meal suggestion\n",
    "2: Add a meal\n",
    "3: Check my meals\n",
    "-----------------\n",
    "What do you want to do? '''))\n",
    "    if choice not in (1,2,3):\n",
    "        print('\\nPlease choose 1, 2 or 3')\n",
    "        clear_output(wait=True)\n",
    "        continue\n",
    "    else:\n",
    "        break"
   ]
  },
  {
   "cell_type": "code",
   "execution_count": null,
   "metadata": {},
   "outputs": [],
   "source": [
    "# Option 1 - get a meal recommendation\n",
    "input(\"what do you want?\")"
   ]
  },
  {
   "cell_type": "code",
   "execution_count": 22,
   "metadata": {},
   "outputs": [
    {
     "ename": "JSONDecodeError",
     "evalue": "Extra data: line 2 column 1 (char 1263)",
     "output_type": "error",
     "traceback": [
      "\u001b[1;31m---------------------------------------------------------------------------\u001b[0m",
      "\u001b[1;31mJSONDecodeError\u001b[0m                           Traceback (most recent call last)",
      "\u001b[1;32m<ipython-input-22-7c9a2229a881>\u001b[0m in \u001b[0;36m<module>\u001b[1;34m\u001b[0m\n\u001b[0;32m      1\u001b[0m \u001b[1;32mimport\u001b[0m \u001b[0mjson\u001b[0m\u001b[1;33m\u001b[0m\u001b[1;33m\u001b[0m\u001b[0m\n\u001b[0;32m      2\u001b[0m \u001b[1;32mwith\u001b[0m \u001b[0mopen\u001b[0m\u001b[1;33m(\u001b[0m\u001b[1;34m'meals.json'\u001b[0m\u001b[1;33m,\u001b[0m \u001b[1;34m'r'\u001b[0m\u001b[1;33m)\u001b[0m \u001b[1;32mas\u001b[0m \u001b[0mfile\u001b[0m\u001b[1;33m:\u001b[0m\u001b[1;33m\u001b[0m\u001b[1;33m\u001b[0m\u001b[0m\n\u001b[1;32m----> 3\u001b[1;33m         \u001b[0mmeals\u001b[0m \u001b[1;33m=\u001b[0m \u001b[0mjson\u001b[0m\u001b[1;33m.\u001b[0m\u001b[0mload\u001b[0m\u001b[1;33m(\u001b[0m\u001b[0mfile\u001b[0m\u001b[1;33m)\u001b[0m\u001b[1;33m\u001b[0m\u001b[1;33m\u001b[0m\u001b[0m\n\u001b[0m\u001b[0;32m      4\u001b[0m \u001b[1;33m\u001b[0m\u001b[0m\n\u001b[0;32m      5\u001b[0m \u001b[0mprint\u001b[0m\u001b[1;33m(\u001b[0m\u001b[0mtype\u001b[0m\u001b[1;33m(\u001b[0m\u001b[0mmeals\u001b[0m\u001b[1;33m)\u001b[0m\u001b[1;33m)\u001b[0m\u001b[1;33m\u001b[0m\u001b[1;33m\u001b[0m\u001b[0m\n",
      "\u001b[1;32m~\\anaconda3\\lib\\json\\__init__.py\u001b[0m in \u001b[0;36mload\u001b[1;34m(fp, cls, object_hook, parse_float, parse_int, parse_constant, object_pairs_hook, **kw)\u001b[0m\n\u001b[0;32m    294\u001b[0m         \u001b[0mcls\u001b[0m\u001b[1;33m=\u001b[0m\u001b[0mcls\u001b[0m\u001b[1;33m,\u001b[0m \u001b[0mobject_hook\u001b[0m\u001b[1;33m=\u001b[0m\u001b[0mobject_hook\u001b[0m\u001b[1;33m,\u001b[0m\u001b[1;33m\u001b[0m\u001b[1;33m\u001b[0m\u001b[0m\n\u001b[0;32m    295\u001b[0m         \u001b[0mparse_float\u001b[0m\u001b[1;33m=\u001b[0m\u001b[0mparse_float\u001b[0m\u001b[1;33m,\u001b[0m \u001b[0mparse_int\u001b[0m\u001b[1;33m=\u001b[0m\u001b[0mparse_int\u001b[0m\u001b[1;33m,\u001b[0m\u001b[1;33m\u001b[0m\u001b[1;33m\u001b[0m\u001b[0m\n\u001b[1;32m--> 296\u001b[1;33m         parse_constant=parse_constant, object_pairs_hook=object_pairs_hook, **kw)\n\u001b[0m\u001b[0;32m    297\u001b[0m \u001b[1;33m\u001b[0m\u001b[0m\n\u001b[0;32m    298\u001b[0m \u001b[1;33m\u001b[0m\u001b[0m\n",
      "\u001b[1;32m~\\anaconda3\\lib\\json\\__init__.py\u001b[0m in \u001b[0;36mloads\u001b[1;34m(s, encoding, cls, object_hook, parse_float, parse_int, parse_constant, object_pairs_hook, **kw)\u001b[0m\n\u001b[0;32m    346\u001b[0m             \u001b[0mparse_int\u001b[0m \u001b[1;32mis\u001b[0m \u001b[1;32mNone\u001b[0m \u001b[1;32mand\u001b[0m \u001b[0mparse_float\u001b[0m \u001b[1;32mis\u001b[0m \u001b[1;32mNone\u001b[0m \u001b[1;32mand\u001b[0m\u001b[1;33m\u001b[0m\u001b[1;33m\u001b[0m\u001b[0m\n\u001b[0;32m    347\u001b[0m             parse_constant is None and object_pairs_hook is None and not kw):\n\u001b[1;32m--> 348\u001b[1;33m         \u001b[1;32mreturn\u001b[0m \u001b[0m_default_decoder\u001b[0m\u001b[1;33m.\u001b[0m\u001b[0mdecode\u001b[0m\u001b[1;33m(\u001b[0m\u001b[0ms\u001b[0m\u001b[1;33m)\u001b[0m\u001b[1;33m\u001b[0m\u001b[1;33m\u001b[0m\u001b[0m\n\u001b[0m\u001b[0;32m    349\u001b[0m     \u001b[1;32mif\u001b[0m \u001b[0mcls\u001b[0m \u001b[1;32mis\u001b[0m \u001b[1;32mNone\u001b[0m\u001b[1;33m:\u001b[0m\u001b[1;33m\u001b[0m\u001b[1;33m\u001b[0m\u001b[0m\n\u001b[0;32m    350\u001b[0m         \u001b[0mcls\u001b[0m \u001b[1;33m=\u001b[0m \u001b[0mJSONDecoder\u001b[0m\u001b[1;33m\u001b[0m\u001b[1;33m\u001b[0m\u001b[0m\n",
      "\u001b[1;32m~\\anaconda3\\lib\\json\\decoder.py\u001b[0m in \u001b[0;36mdecode\u001b[1;34m(self, s, _w)\u001b[0m\n\u001b[0;32m    338\u001b[0m         \u001b[0mend\u001b[0m \u001b[1;33m=\u001b[0m \u001b[0m_w\u001b[0m\u001b[1;33m(\u001b[0m\u001b[0ms\u001b[0m\u001b[1;33m,\u001b[0m \u001b[0mend\u001b[0m\u001b[1;33m)\u001b[0m\u001b[1;33m.\u001b[0m\u001b[0mend\u001b[0m\u001b[1;33m(\u001b[0m\u001b[1;33m)\u001b[0m\u001b[1;33m\u001b[0m\u001b[1;33m\u001b[0m\u001b[0m\n\u001b[0;32m    339\u001b[0m         \u001b[1;32mif\u001b[0m \u001b[0mend\u001b[0m \u001b[1;33m!=\u001b[0m \u001b[0mlen\u001b[0m\u001b[1;33m(\u001b[0m\u001b[0ms\u001b[0m\u001b[1;33m)\u001b[0m\u001b[1;33m:\u001b[0m\u001b[1;33m\u001b[0m\u001b[1;33m\u001b[0m\u001b[0m\n\u001b[1;32m--> 340\u001b[1;33m             \u001b[1;32mraise\u001b[0m \u001b[0mJSONDecodeError\u001b[0m\u001b[1;33m(\u001b[0m\u001b[1;34m\"Extra data\"\u001b[0m\u001b[1;33m,\u001b[0m \u001b[0ms\u001b[0m\u001b[1;33m,\u001b[0m \u001b[0mend\u001b[0m\u001b[1;33m)\u001b[0m\u001b[1;33m\u001b[0m\u001b[1;33m\u001b[0m\u001b[0m\n\u001b[0m\u001b[0;32m    341\u001b[0m         \u001b[1;32mreturn\u001b[0m \u001b[0mobj\u001b[0m\u001b[1;33m\u001b[0m\u001b[1;33m\u001b[0m\u001b[0m\n\u001b[0;32m    342\u001b[0m \u001b[1;33m\u001b[0m\u001b[0m\n",
      "\u001b[1;31mJSONDecodeError\u001b[0m: Extra data: line 2 column 1 (char 1263)"
     ]
    }
   ],
   "source": [
    "import json\n",
    "with open('meals.json', 'r') as file:\n",
    "        meals = json.load(file)\n",
    "        \n",
    "print(type(meals))\n",
    "display(meals)"
   ]
  },
  {
   "cell_type": "code",
   "execution_count": 13,
   "metadata": {},
   "outputs": [
    {
     "data": {
      "text/plain": [
       "{'index': 0,\n",
       " 'name': 'better than takeout sweet thai basil chicken',\n",
       " 'ingredients': {'ground chicken': '1 pound',\n",
       "  'seasame oil': '2 tablespoons',\n",
       "  'black pepper': 'to taste',\n",
       "  'garlic': '4 cloves',\n",
       "  'ginger': '1 inch, grated',\n",
       "  'bell pepper, red or orange': '2, chopped',\n",
       "  'cashews': '1/2 cup',\n",
       "  'soy sauce, low sodium': '1/2 cup',\n",
       "  'fish sauce': '2 tablespoons',\n",
       "  'honey': '1/4 cup',\n",
       "  'chili paste, sambal oelek': '2-3 tablespoons',\n",
       "  'basil': '1 cup, torn',\n",
       "  'mint': '1/4 cup, torn',\n",
       "  'rice, white or brown': 'as needed',\n",
       "  'mango': '1, sliced or diced'},\n",
       " 'instructions': {'1': 'Heat the oil in a large skillet over medium heat. When the oil shimmers, add the chicken. Season with black pepper and brown all over, breaking the chicken up as it cooks, about 5 minutes. Add the garlic, ginger, peppers, and cashews, cook another 2-3 minutes, until the garlic is fragrant. Pour in the soy sauce, fish sauce, chili paste, and honey. Bring the sauce to a boil over medium-high heat and cook until the sauce coats the chicken, about 5-8 minutes.',\n",
       "  '2': 'Remove from the heat and stir in the basil and mint.',\n",
       "  '3': 'Serve the chicken and sauce over bowls of rice. Top with mangos and additional basil. Enjoy!'},\n",
       " 'cuisine': ['thai', 'asian'],\n",
       " 'tags': ['easy leftovers', 'one pot meal', 'spicy']}"
      ]
     },
     "metadata": {},
     "output_type": "display_data"
    },
    {
     "name": "stdout",
     "output_type": "stream",
     "text": [
      "What's the name of the meal?\n",
      "test\n",
      "What's the first ingredient?\n",
      "test\n",
      "How much to use?\n",
      "pass\n",
      "Any more ingredients to add? (y/n) \n",
      "y\n",
      "What's the next ingredient?\n",
      "test\n",
      "How much to use?\n",
      "pass\n",
      "Any more ingredients to add? (y/n) \n",
      "n\n",
      "What's the first step to make this meal?\n",
      "pass\n",
      "Any more steps? (y/n) \n",
      "y\n",
      "What's the next step?\n",
      "pass\n",
      "Any more steps? (y/n) \n",
      "n\n",
      "What type of cuisine is this meal?\n",
      "Separate multiple types with a comma.\n",
      "pass, pass, test\n",
      "What tags should be added to this meal?\n",
      "Separate multiple types with a comma.\n",
      "testing, pass\n"
     ]
    },
    {
     "ename": "AttributeError",
     "evalue": "'dict' object has no attribute 'append'",
     "output_type": "error",
     "traceback": [
      "\u001b[1;31m---------------------------------------------------------------------------\u001b[0m",
      "\u001b[1;31mAttributeError\u001b[0m                            Traceback (most recent call last)",
      "\u001b[1;32m<ipython-input-13-a7d95da5431a>\u001b[0m in \u001b[0;36m<module>\u001b[1;34m\u001b[0m\n\u001b[0;32m     85\u001b[0m     \u001b[0mdisplay\u001b[0m\u001b[1;33m(\u001b[0m\u001b[0mmeals\u001b[0m\u001b[1;33m)\u001b[0m\u001b[1;33m\u001b[0m\u001b[1;33m\u001b[0m\u001b[0m\n\u001b[0;32m     86\u001b[0m \u001b[1;33m\u001b[0m\u001b[0m\n\u001b[1;32m---> 87\u001b[1;33m \u001b[0madd_meal\u001b[0m\u001b[1;33m(\u001b[0m\u001b[1;33m)\u001b[0m\u001b[1;33m\u001b[0m\u001b[1;33m\u001b[0m\u001b[0m\n\u001b[0m",
      "\u001b[1;32m<ipython-input-13-a7d95da5431a>\u001b[0m in \u001b[0;36madd_meal\u001b[1;34m()\u001b[0m\n\u001b[0;32m     79\u001b[0m      \u001b[1;31m#   meals = json.load(file)\u001b[0m\u001b[1;33m\u001b[0m\u001b[1;33m\u001b[0m\u001b[1;33m\u001b[0m\u001b[0m\n\u001b[0;32m     80\u001b[0m \u001b[1;33m\u001b[0m\u001b[0m\n\u001b[1;32m---> 81\u001b[1;33m     \u001b[0mmeals\u001b[0m\u001b[1;33m.\u001b[0m\u001b[0mappend\u001b[0m\u001b[1;33m(\u001b[0m\u001b[0mnew_meal\u001b[0m\u001b[1;33m)\u001b[0m\u001b[1;33m\u001b[0m\u001b[1;33m\u001b[0m\u001b[0m\n\u001b[0m\u001b[0;32m     82\u001b[0m \u001b[1;33m\u001b[0m\u001b[0m\n\u001b[0;32m     83\u001b[0m     \u001b[1;31m# For testing purposes, will display\u001b[0m\u001b[1;33m\u001b[0m\u001b[1;33m\u001b[0m\u001b[1;33m\u001b[0m\u001b[0m\n",
      "\u001b[1;31mAttributeError\u001b[0m: 'dict' object has no attribute 'append'"
     ]
    }
   ],
   "source": [
    "# Option 2 - add a new meal\n",
    "def add_meal():\n",
    "    '''This function will ask the user for inputs to create a new meal, then add the meal\n",
    "    to the meals database and print to file.'''\n",
    "    \n",
    "    # For testing only - NEED TO FIGURE OUT HOW TO LOAD THE JSON FILE AND CREATE A LIST OF DICTS\n",
    "    import json\n",
    "    with open('meals.json', 'r') as file:\n",
    "        meals = json.load(file)\n",
    "    display(meals)\n",
    "     \n",
    "    # Create new_meal (a dict that gets populated through inputs) then append to meals at end\n",
    "    new_meal = dict()\n",
    "       \n",
    "    ### Ask user for inputs (store all as lowercase)\n",
    "    # Ask user for name\n",
    "    os.system('cls')\n",
    "    name = input(\"What's the name of the meal?\\n\")\n",
    "    new_meal['name'] = name.lower()\n",
    "    \n",
    "    # Ask user ingredients, one at a time: ingredient, then amount, then ask if any more\n",
    "    os.system('cls')\n",
    "    ingredients = dict()\n",
    "    i = input(\"What's the first ingredient?\\n\").lower()\n",
    "    j = input(\"How much to use?\\n\").lower()\n",
    "    ingredients[i] = j\n",
    "    \n",
    "    while True:\n",
    "        more = input(\"Any more ingredients to add? (y/n) \\n\").lower()\n",
    "        if more == 'y':\n",
    "            os.system('cls')\n",
    "            i = input(\"What's the next ingredient?\\n\").lower()\n",
    "            j = input(\"How much to use?\\n\").lower()\n",
    "            ingredients[i] = j\n",
    "            continue\n",
    "        elif more == 'n':\n",
    "            break\n",
    "    new_meal['ingredients'] = ingredients\n",
    "    \n",
    "    # Ask for instructions - first, second third step, etc. (number them)\n",
    "    os.system('cls')\n",
    "    step = input(\"What's the first step to make this meal?\\n\").lower()\n",
    "    instructions = dict()\n",
    "    instructions[1]=step\n",
    "    i = 2\n",
    "    \n",
    "    while True:\n",
    "        more = input(\"Any more steps? (y/n) \\n\").lower()\n",
    "        if more == 'y':\n",
    "            os.system('cls')\n",
    "            step = input(\"What's the next step?\\n\").lower()\n",
    "            instructions[i] = step\n",
    "            i += 1\n",
    "            continue\n",
    "        elif more == 'n':\n",
    "            break\n",
    "    new_meal['instructions'] = instructions\n",
    "    \n",
    "    # Get the type of cuisine\n",
    "    cuisine = input('''What type of cuisine is this meal?\n",
    "Separate multiple types with a comma.\\n''').lower()\n",
    "    \n",
    "    result=[x.strip() for x in cuisine.split(',')]\n",
    "    new_meal['cuisine'] = result\n",
    "    \n",
    "    # Get the tags\n",
    "    tags = input('''What tags should be added to this meal?\n",
    "Separate multiple types with a comma.\\n''').lower()\n",
    "    \n",
    "    tags = [x.strip() for x in tags.split(',')]\n",
    "    new_meal['tags'] = tags\n",
    "    \n",
    "    # Append the new dict (new_meal) to meals (list of meals)\n",
    "    \n",
    "    # Un-comment these when done testing\n",
    "    #import json\n",
    "    \n",
    "    #with open('meals.json', 'r') as file:\n",
    "     #   meals = json.load(file)\n",
    "    \n",
    "    meals.append(new_meal)\n",
    "    \n",
    "    # For testing purposes, will display\n",
    "    display(new_meal)\n",
    "    display(meals)\n",
    "\n",
    "add_meal()"
   ]
  },
  {
   "cell_type": "code",
   "execution_count": 7,
   "metadata": {},
   "outputs": [
    {
     "ename": "AttributeError",
     "evalue": "'int' object has no attribute 'values'",
     "output_type": "error",
     "traceback": [
      "\u001b[1;31m---------------------------------------------------------------------------\u001b[0m",
      "\u001b[1;31mAttributeError\u001b[0m                            Traceback (most recent call last)",
      "\u001b[1;32m<ipython-input-7-cd0982f364b2>\u001b[0m in \u001b[0;36m<module>\u001b[1;34m\u001b[0m\n\u001b[0;32m      8\u001b[0m \u001b[1;33m\u001b[0m\u001b[0m\n\u001b[0;32m      9\u001b[0m \u001b[1;31m# The above will be the definition for the function that I create below\u001b[0m\u001b[1;33m\u001b[0m\u001b[1;33m\u001b[0m\u001b[1;33m\u001b[0m\u001b[0m\n\u001b[1;32m---> 10\u001b[1;33m \u001b[0mprint\u001b[0m\u001b[1;33m(\u001b[0m\u001b[1;33m[\u001b[0m\u001b[0mmeals_dict\u001b[0m\u001b[1;33m[\u001b[0m\u001b[1;34m'name'\u001b[0m\u001b[1;33m]\u001b[0m \u001b[1;32mfor\u001b[0m \u001b[0mi\u001b[0m \u001b[1;32min\u001b[0m \u001b[0mmeals_dict\u001b[0m\u001b[1;33m[\u001b[0m\u001b[1;34m'index'\u001b[0m\u001b[1;33m]\u001b[0m\u001b[1;33m.\u001b[0m\u001b[0mvalues\u001b[0m\u001b[1;33m]\u001b[0m\u001b[1;33m)\u001b[0m\u001b[1;33m\u001b[0m\u001b[1;33m\u001b[0m\u001b[0m\n\u001b[0m",
      "\u001b[1;31mAttributeError\u001b[0m: 'int' object has no attribute 'values'"
     ]
    }
   ],
   "source": [
    "# Option 3 - view existing meals\n",
    "def view_meals():\n",
    "    '''This is the function that will run when someone selects option\n",
    "    3 from the menu\n",
    "    \n",
    "    Just prints a list of available meals'''\n",
    "    pass\n",
    "\n",
    "# The above will be the definition for the function that I create below\n",
    "print([meals_dict['name'] for i in meals_dict['index'].values])"
   ]
  },
  {
   "cell_type": "code",
   "execution_count": null,
   "metadata": {},
   "outputs": [],
   "source": []
  }
 ],
 "metadata": {
  "kernelspec": {
   "display_name": "Python 3",
   "language": "python",
   "name": "python3"
  },
  "language_info": {
   "codemirror_mode": {
    "name": "ipython",
    "version": 3
   },
   "file_extension": ".py",
   "mimetype": "text/x-python",
   "name": "python",
   "nbconvert_exporter": "python",
   "pygments_lexer": "ipython3",
   "version": "3.7.6"
  }
 },
 "nbformat": 4,
 "nbformat_minor": 4
}
