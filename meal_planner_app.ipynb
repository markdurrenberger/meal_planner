{
 "cells": [
  {
   "cell_type": "markdown",
   "metadata": {},
   "source": [
    "Working on the code here for iterative purposes"
   ]
  },
  {
   "cell_type": "code",
   "execution_count": 1,
   "metadata": {},
   "outputs": [],
   "source": [
    "import os"
   ]
  },
  {
   "cell_type": "markdown",
   "metadata": {},
   "source": [
    "There is a pickle file in the folder called \"meals.pkl\" (referred to in the functions below). I've added two meals to get it started, but that's what we'll add to.\n",
    "\n",
    "It is a list of dictionaries, with each dictionary being its own meal."
   ]
  },
  {
   "cell_type": "markdown",
   "metadata": {},
   "source": [
    "__Note to self:__\n",
    "\n",
    "Add in a bunch of new meals (using option 2), then set up the recommender (using just protein at first)"
   ]
  },
  {
   "cell_type": "code",
   "execution_count": null,
   "metadata": {},
   "outputs": [],
   "source": [
    "# Main menu\n",
    "from IPython.display import clear_output\n",
    "\n",
    "while True:\n",
    "    choice = int(input('''1: Get meal suggestion\n",
    "2: Add a meal\n",
    "3: Check my meals\n",
    "-----------------\n",
    "What do you want to do? '''))\n",
    "    if choice not in (1,2,3):\n",
    "        print('\\nPlease choose 1, 2 or 3')\n",
    "        clear_output(wait=True)\n",
    "        continue\n",
    "    else:\n",
    "        break"
   ]
  },
  {
   "cell_type": "code",
   "execution_count": 6,
   "metadata": {},
   "outputs": [],
   "source": [
    "# Option 1 - get a meal recommendation\n",
    "def get_recommendation():\n",
    "\n",
    "    # Load the current directory of meals\n",
    "    import pickle\n",
    "    f = open('meals.pkl', 'rb')\n",
    "    meals = pickle.load(f)\n",
    "    f.close()\n",
    "    \n",
    "    # Get user inputs for types of meals\n",
    "    protein = input(\"What protein would you like? \").lower()\n",
    "    \n",
    "    ### I'll figure out the protein part first, then expand with these lines\n",
    "    \n",
    "    #cuisine = input(\"Any particular cuisine type? \").lower()\n",
    "    #tags = input('''Anything else in particular?\n",
    "#Examples: easy leftovers, slow cooker...''').lower()\n",
    "    \n",
    "    # Using the inputs, subset the meals list into meals that fit\n",
    "    \n",
    "    # Display a random meal from that subset, and offer to display the details\n",
    "    \n",
    "    # Allow them to request a different meal\n",
    "    ### This would require dropping each displayed meal from the subset list"
   ]
  },
  {
   "cell_type": "code",
   "execution_count": 41,
   "metadata": {},
   "outputs": [
    {
     "name": "stdout",
     "output_type": "stream",
     "text": [
      "better than takeout sweet thai basil chicken\n",
      "ground chicken\n",
      "seasame oil\n",
      "black pepper\n",
      "garlic\n",
      "ginger\n",
      "bell pepper, red or orange\n",
      "cashews\n",
      "soy sauce, low sodium\n",
      "fish sauce\n",
      "honey\n",
      "chili paste, sambal oelek\n",
      "basil\n",
      "mint\n",
      "rice, white or brown\n",
      "mango\n",
      "slow roasted beef\n",
      "chuck beef roast\n"
     ]
    },
    {
     "data": {
      "text/plain": [
       "[{'name': 'slow roasted beef',\n",
       "  'ingredients': {'chuck beef roast': '3-4 pounds',\n",
       "   'giardinera (mild)': '1 jar',\n",
       "   'giardinera (hot)': '1 small jar',\n",
       "   'beef broth': '1 can'},\n",
       "  'instructions': {1: 'drain the jars of giardinera oil in a strainer, then put everything in crock pot.',\n",
       "   2: 'cook on high in crock pot for 5 hours.'},\n",
       "  'cuisine': ['american'],\n",
       "  'tags': ['slow cooker']}]"
      ]
     },
     "metadata": {},
     "output_type": "display_data"
    }
   ],
   "source": [
    "# working on getting the filter to work\n",
    "import pickle\n",
    "f = open('meals.pkl', 'rb')\n",
    "meals = pickle.load(f)\n",
    "f.close()\n",
    "\n",
    "# Not needed here right now\n",
    "# display([(i,x['ingredients'].keys()) for (i,x) in enumerate(meals)])\n",
    "\n",
    "### This will need to get cleaned up as the program scales up\n",
    "### but it works for now for our small database purposes\n",
    "subset = []\n",
    "for meal in meals:\n",
    "    print(meal['name'])\n",
    "    \n",
    "    # replace chicken with the protein variable from user input\n",
    "    for ingredient in meal['ingredients'].keys():\n",
    "        print(ingredient)\n",
    "        if 'chicken' in ingredient:\n",
    "            subset.append(meal)\n",
    "            break\n",
    "        else:\n",
    "            continue\n",
    "        \n",
    "display(subset)"
   ]
  },
  {
   "cell_type": "code",
   "execution_count": 7,
   "metadata": {},
   "outputs": [
    {
     "name": "stdout",
     "output_type": "stream",
     "text": [
      "What protein would you like? beef\n",
      "Any particular cuisine type? \n",
      "Anything else in particular?\n",
      "Examples: easy leftovers, slow cooker...\n"
     ]
    },
    {
     "data": {
      "text/plain": [
       "[]"
      ]
     },
     "metadata": {},
     "output_type": "display_data"
    },
    {
     "data": {
      "text/plain": [
       "0"
      ]
     },
     "metadata": {},
     "output_type": "display_data"
    }
   ],
   "source": [
    "get_recommendation()\n"
   ]
  },
  {
   "cell_type": "code",
   "execution_count": null,
   "metadata": {},
   "outputs": [],
   "source": [
    "# Option 2 - add a new meal\n",
    "def add_meal():\n",
    "    '''This function will ask the user for inputs to create a new meal, then add the meal\n",
    "    to the meals database and print to file.'''\n",
    "     \n",
    "    # Create new_meal (a dict that gets populated through inputs) then append to meals at end\n",
    "    new_meal = dict()\n",
    "       \n",
    "    ### Ask user for inputs (store all as lowercase)\n",
    "    # Ask user for name\n",
    "    os.system('cls')\n",
    "    name = input(\"What's the name of the meal?\\n\")\n",
    "    new_meal['name'] = name.lower()\n",
    "    \n",
    "    # Ask user ingredients, one at a time: ingredient, then amount, then ask if any more\n",
    "    os.system('cls')\n",
    "    ingredients = dict()\n",
    "    i = input(\"What's the first ingredient?\\n\").lower()\n",
    "    j = input(\"How much to use?\\n\").lower()\n",
    "    ingredients[i] = j\n",
    "    \n",
    "    while True:\n",
    "        more = input(\"Any more ingredients to add? (y/n) \\n\").lower()\n",
    "        if more == 'y':\n",
    "            os.system('cls')\n",
    "            i = input(\"What's the next ingredient?\\n\").lower()\n",
    "            j = input(\"How much to use?\\n\").lower()\n",
    "            ingredients[i] = j\n",
    "            continue\n",
    "        elif more == 'n':\n",
    "            break\n",
    "    new_meal['ingredients'] = ingredients\n",
    "    \n",
    "    # Ask for instructions - first, second third step, etc. (number them)\n",
    "    os.system('cls')\n",
    "    step = input(\"What's the first step to make this meal?\\n\").lower()\n",
    "    instructions = dict()\n",
    "    instructions[1]=step\n",
    "    i = 2\n",
    "    \n",
    "    while True:\n",
    "        more = input(\"Any more steps? (y/n) \\n\").lower()\n",
    "        if more == 'y':\n",
    "            os.system('cls')\n",
    "            step = input(\"What's the next step?\\n\").lower()\n",
    "            instructions[i] = step\n",
    "            i += 1\n",
    "            continue\n",
    "        elif more == 'n':\n",
    "            break\n",
    "    new_meal['instructions'] = instructions\n",
    "    \n",
    "    # Get the type of cuisine\n",
    "    cuisine = input('''What type of cuisine is this meal?\n",
    "Separate multiple types with a comma.\\n''').lower()\n",
    "    \n",
    "    result=[x.strip() for x in cuisine.split(',')]\n",
    "    new_meal['cuisine'] = result\n",
    "    \n",
    "    # Get the tags\n",
    "    tags = input('''What tags should be added to this meal?\n",
    "Separate multiple types with a comma.\\n''').lower()\n",
    "    \n",
    "    tags = [x.strip() for x in tags.split(',')]\n",
    "    new_meal['tags'] = tags\n",
    "    \n",
    "    # Append the new dict (new_meal) to meals (list of meals)\n",
    "    meals.append(new_meal)\n",
    "    \n",
    "    # Print the new list of meals to file\n",
    "    import pickle\n",
    "\n",
    "    f = open('meals.pkl', 'wb')\n",
    "    pickle.dump(meals, f)\n",
    "    f.close()"
   ]
  },
  {
   "cell_type": "code",
   "execution_count": null,
   "metadata": {},
   "outputs": [],
   "source": [
    "# Option 3 - view existing meals\n",
    "def view_meals():\n",
    "    '''This is the function that will run when someone selects option\n",
    "    3 from the menu\n",
    "    \n",
    "    Just prints a list of available meals'''\n",
    "    \n",
    "    #Load the saved meals from file\n",
    "    import pickle\n",
    "    f = open('meals.pkl', 'rb')\n",
    "\n",
    "    meals = pickle.load(f)\n",
    "    \n",
    "    print(\"Here are the meals you have saved:\\n\")\n",
    "    \n",
    "    for i, meal in enumerate(meals):\n",
    "        print('{}: {}'.format(i+1, meal['name']))\n",
    "    \n",
    "    print('--------')\n",
    "    input(\"Enter the number to view details of a meal (or 0 to return to menu): \")"
   ]
  },
  {
   "cell_type": "code",
   "execution_count": null,
   "metadata": {},
   "outputs": [],
   "source": [
    "def show_meal_details():\n",
    "    '''This will be a function that is called within the view_meals() function.\n",
    "    It will display the details of the indivudal meal. This should be in a format\n",
    "    that is human-friendly, such that it could be used for cooking the meal.'''\n",
    "    \n",
    "    "
   ]
  },
  {
   "cell_type": "code",
   "execution_count": null,
   "metadata": {},
   "outputs": [],
   "source": [
    "# Test add meals function\n",
    "add_meal()"
   ]
  },
  {
   "cell_type": "code",
   "execution_count": null,
   "metadata": {},
   "outputs": [],
   "source": [
    "# Test view meals function\n",
    "view_meals()"
   ]
  },
  {
   "cell_type": "code",
   "execution_count": null,
   "metadata": {},
   "outputs": [],
   "source": []
  }
 ],
 "metadata": {
  "kernelspec": {
   "display_name": "Python 3",
   "language": "python",
   "name": "python3"
  },
  "language_info": {
   "codemirror_mode": {
    "name": "ipython",
    "version": 3
   },
   "file_extension": ".py",
   "mimetype": "text/x-python",
   "name": "python",
   "nbconvert_exporter": "python",
   "pygments_lexer": "ipython3",
   "version": "3.7.6"
  }
 },
 "nbformat": 4,
 "nbformat_minor": 4
}
