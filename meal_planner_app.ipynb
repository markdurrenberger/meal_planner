{
 "cells": [
  {
   "cell_type": "markdown",
   "metadata": {},
   "source": [
    "Working on the code here for iterative purposes"
   ]
  },
  {
   "cell_type": "code",
   "execution_count": null,
   "metadata": {},
   "outputs": [],
   "source": [
    "import os"
   ]
  },
  {
   "cell_type": "code",
   "execution_count": 1,
   "metadata": {},
   "outputs": [],
   "source": [
    "# Sample meal to get the list started & set up formatting\n",
    "\n",
    "# Meals saved as a list of dictionaries with each meal getting its own dictionary\n",
    "\n",
    "meals = [{\n",
    "    'name': 'better than takeout sweet thai basil chicken',\n",
    "    'ingredients': {\n",
    "        'ground chicken' : '1 pound',\n",
    "        'seasame oil' : '2 tablespoons',\n",
    "        'black pepper' : 'to taste',\n",
    "        'garlic' : '4 cloves',\n",
    "        'ginger' : '1 inch, grated',\n",
    "        'bell pepper, red or orange' : '2, chopped',\n",
    "        'cashews' : '1/2 cup',\n",
    "        'soy sauce, low sodium' : '1/2 cup',\n",
    "        'fish sauce' : '2 tablespoons',\n",
    "        'honey' : '1/4 cup',\n",
    "        'chili paste, sambal oelek' : '2-3 tablespoons',\n",
    "        'basil' : '1 cup, torn',\n",
    "        'mint' : '1/4 cup, torn',\n",
    "        'rice, white or brown' : 'as needed',\n",
    "        'mango' : '1, sliced or diced'\n",
    "    },\n",
    "    'instructions': {\n",
    "        1 : '''Heat the oil in a large skillet over medium heat. When the oil shimmers, add the chicken. Season with black pepper and brown all over, breaking the chicken up as it cooks, about 5 minutes. Add the garlic, ginger, peppers, and cashews, cook another 2-3 minutes, until the garlic is fragrant. Pour in the soy sauce, fish sauce, chili paste, and honey. Bring the sauce to a boil over medium-high heat and cook until the sauce coats the chicken, about 5-8 minutes.''',\n",
    "        2 : '''Remove from the heat and stir in the basil and mint.''',\n",
    "        3 : '''Serve the chicken and sauce over bowls of rice. Top with mangos and additional basil. Enjoy!'''\n",
    "    },\n",
    "    'cuisine' : ['thai','asian'],\n",
    "    'tags' : ['easy leftovers', 'one pot meal', 'spicy']\n",
    "             }\n",
    "]"
   ]
  },
  {
   "cell_type": "code",
   "execution_count": 2,
   "metadata": {},
   "outputs": [],
   "source": [
    "# Test - saving list of dictionaries to pickle file\n",
    "import pickle\n",
    "\n",
    "f = open('meals.pkl', 'wb')\n",
    "pickle.dump(meals, f)\n",
    "f.close()"
   ]
  },
  {
   "cell_type": "code",
   "execution_count": 3,
   "metadata": {},
   "outputs": [
    {
     "data": {
      "text/plain": [
       "[{'name': 'better than takeout sweet thai basil chicken',\n",
       "  'ingredients': {'ground chicken': '1 pound',\n",
       "   'seasame oil': '2 tablespoons',\n",
       "   'black pepper': 'to taste',\n",
       "   'garlic': '4 cloves',\n",
       "   'ginger': '1 inch, grated',\n",
       "   'bell pepper, red or orange': '2, chopped',\n",
       "   'cashews': '1/2 cup',\n",
       "   'soy sauce, low sodium': '1/2 cup',\n",
       "   'fish sauce': '2 tablespoons',\n",
       "   'honey': '1/4 cup',\n",
       "   'chili paste, sambal oelek': '2-3 tablespoons',\n",
       "   'basil': '1 cup, torn',\n",
       "   'mint': '1/4 cup, torn',\n",
       "   'rice, white or brown': 'as needed',\n",
       "   'mango': '1, sliced or diced'},\n",
       "  'instructions': {1: 'Heat the oil in a large skillet over medium heat. When the oil shimmers, add the chicken. Season with black pepper and brown all over, breaking the chicken up as it cooks, about 5 minutes. Add the garlic, ginger, peppers, and cashews, cook another 2-3 minutes, until the garlic is fragrant. Pour in the soy sauce, fish sauce, chili paste, and honey. Bring the sauce to a boil over medium-high heat and cook until the sauce coats the chicken, about 5-8 minutes.',\n",
       "   2: 'Remove from the heat and stir in the basil and mint.',\n",
       "   3: 'Serve the chicken and sauce over bowls of rice. Top with mangos and additional basil. Enjoy!'},\n",
       "  'cuisine': ['thai', 'asian'],\n",
       "  'tags': ['easy leftovers', 'one pot meal', 'spicy']}]"
      ]
     },
     "metadata": {},
     "output_type": "display_data"
    },
    {
     "data": {
      "text/plain": [
       "list"
      ]
     },
     "metadata": {},
     "output_type": "display_data"
    }
   ],
   "source": [
    "# Test - loading the dictionary from pickle file\n",
    "fr = open('meals.pkl', 'rb')\n",
    "\n",
    "check_dict = pickle.load(fr)\n",
    "\n",
    "display(check_dict)\n",
    "display(type(check_dict))"
   ]
  },
  {
   "cell_type": "code",
   "execution_count": null,
   "metadata": {},
   "outputs": [],
   "source": [
    "# Main menu\n",
    "from IPython.display import clear_output\n",
    "\n",
    "while True:\n",
    "    choice = int(input('''1: Get meal suggestion\n",
    "2: Add a meal\n",
    "3: Check my meals\n",
    "-----------------\n",
    "What do you want to do? '''))\n",
    "    if choice not in (1,2,3):\n",
    "        print('\\nPlease choose 1, 2 or 3')\n",
    "        clear_output(wait=True)\n",
    "        continue\n",
    "    else:\n",
    "        break"
   ]
  },
  {
   "cell_type": "code",
   "execution_count": null,
   "metadata": {},
   "outputs": [],
   "source": [
    "# Option 1 - get a meal recommendation\n",
    "input(\"what do you want?\")"
   ]
  },
  {
   "cell_type": "code",
   "execution_count": null,
   "metadata": {},
   "outputs": [],
   "source": [
    "# Option 2 - add a new meal\n",
    "def add_meal():\n",
    "    '''This function will ask the user for inputs to create a new meal, then add the meal\n",
    "    to the meals database and print to file.'''\n",
    "     \n",
    "    # Create new_meal (a dict that gets populated through inputs) then append to meals at end\n",
    "    new_meal = dict()\n",
    "       \n",
    "    ### Ask user for inputs (store all as lowercase)\n",
    "    # Ask user for name\n",
    "    os.system('cls')\n",
    "    name = input(\"What's the name of the meal?\\n\")\n",
    "    new_meal['name'] = name.lower()\n",
    "    \n",
    "    # Ask user ingredients, one at a time: ingredient, then amount, then ask if any more\n",
    "    os.system('cls')\n",
    "    ingredients = dict()\n",
    "    i = input(\"What's the first ingredient?\\n\").lower()\n",
    "    j = input(\"How much to use?\\n\").lower()\n",
    "    ingredients[i] = j\n",
    "    \n",
    "    while True:\n",
    "        more = input(\"Any more ingredients to add? (y/n) \\n\").lower()\n",
    "        if more == 'y':\n",
    "            os.system('cls')\n",
    "            i = input(\"What's the next ingredient?\\n\").lower()\n",
    "            j = input(\"How much to use?\\n\").lower()\n",
    "            ingredients[i] = j\n",
    "            continue\n",
    "        elif more == 'n':\n",
    "            break\n",
    "    new_meal['ingredients'] = ingredients\n",
    "    \n",
    "    # Ask for instructions - first, second third step, etc. (number them)\n",
    "    os.system('cls')\n",
    "    step = input(\"What's the first step to make this meal?\\n\").lower()\n",
    "    instructions = dict()\n",
    "    instructions[1]=step\n",
    "    i = 2\n",
    "    \n",
    "    while True:\n",
    "        more = input(\"Any more steps? (y/n) \\n\").lower()\n",
    "        if more == 'y':\n",
    "            os.system('cls')\n",
    "            step = input(\"What's the next step?\\n\").lower()\n",
    "            instructions[i] = step\n",
    "            i += 1\n",
    "            continue\n",
    "        elif more == 'n':\n",
    "            break\n",
    "    new_meal['instructions'] = instructions\n",
    "    \n",
    "    # Get the type of cuisine\n",
    "    cuisine = input('''What type of cuisine is this meal?\n",
    "Separate multiple types with a comma.\\n''').lower()\n",
    "    \n",
    "    result=[x.strip() for x in cuisine.split(',')]\n",
    "    new_meal['cuisine'] = result\n",
    "    \n",
    "    # Get the tags\n",
    "    tags = input('''What tags should be added to this meal?\n",
    "Separate multiple types with a comma.\\n''').lower()\n",
    "    \n",
    "    tags = [x.strip() for x in tags.split(',')]\n",
    "    new_meal['tags'] = tags\n",
    "    \n",
    "    # Append the new dict (new_meal) to meals (list of meals)\n",
    "    meals.append(new_meal)\n",
    "    \n",
    "    # Print the new list of meals to file\n",
    "    import pickle\n",
    "\n",
    "    f = open('meals.pkl', 'wb')\n",
    "    pickle.dump(meals, f)\n",
    "    f.close()"
   ]
  },
  {
   "cell_type": "code",
   "execution_count": null,
   "metadata": {},
   "outputs": [],
   "source": [
    "# Option 3 - view existing meals\n",
    "def view_meals():\n",
    "    '''This is the function that will run when someone selects option\n",
    "    3 from the menu\n",
    "    \n",
    "    Just prints a list of available meals'''\n",
    "    print(\"Here are the meals you have saved:\\n\")\n",
    "    \n",
    "    for i, meal in enumerate(meals):\n",
    "        print('{}: {}'.format(i+1, meal['name']))\n",
    "    \n",
    "    print('--------')\n",
    "    input(\"Enter the number to view details of a meal (or 0 to return to menu): \")"
   ]
  },
  {
   "cell_type": "code",
   "execution_count": null,
   "metadata": {},
   "outputs": [],
   "source": [
    "# Test add meals function\n",
    "add_meal()"
   ]
  },
  {
   "cell_type": "code",
   "execution_count": null,
   "metadata": {},
   "outputs": [],
   "source": [
    "# Test view meals function\n",
    "view_meals()"
   ]
  },
  {
   "cell_type": "code",
   "execution_count": null,
   "metadata": {},
   "outputs": [],
   "source": []
  }
 ],
 "metadata": {
  "kernelspec": {
   "display_name": "Python 3",
   "language": "python",
   "name": "python3"
  },
  "language_info": {
   "codemirror_mode": {
    "name": "ipython",
    "version": 3
   },
   "file_extension": ".py",
   "mimetype": "text/x-python",
   "name": "python",
   "nbconvert_exporter": "python",
   "pygments_lexer": "ipython3",
   "version": "3.7.6"
  }
 },
 "nbformat": 4,
 "nbformat_minor": 4
}
