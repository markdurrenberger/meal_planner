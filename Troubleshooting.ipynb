{
 "cells": [
  {
   "cell_type": "markdown",
   "metadata": {},
   "source": [
    "# Troubleshooting Meal Recommendation function\n",
    "\n",
    "I've got most of this stuff working in my .py file, but this function is giving me trouble. Thought breaking out into a notebook could help me chunk it down and build back up."
   ]
  },
  {
   "cell_type": "code",
   "execution_count": 1,
   "metadata": {},
   "outputs": [],
   "source": [
    "# Load my directory of meals\n",
    "import pickle\n",
    "f = open('meals.pkl', 'rb')\n",
    "meals = pickle.load(f)\n",
    "f.close()"
   ]
  },
  {
   "cell_type": "code",
   "execution_count": 2,
   "metadata": {},
   "outputs": [
    {
     "name": "stdout",
     "output_type": "stream",
     "text": [
      "What protein would you like? chicken\n"
     ]
    }
   ],
   "source": [
    "# Get user inputs for types of meals\n",
    "protein = input(\"What protein would you like? \").lower().strip()"
   ]
  },
  {
   "cell_type": "code",
   "execution_count": 17,
   "metadata": {},
   "outputs": [],
   "source": [
    "subset = []\n",
    "for meal in meals:\n",
    "    for ingredient in meal['ingredients'].keys():\n",
    "        if protein in ingredient:\n",
    "            subset.append(meal)\n",
    "            break\n",
    "        else:\n",
    "            continue"
   ]
  },
  {
   "cell_type": "code",
   "execution_count": 18,
   "metadata": {},
   "outputs": [
    {
     "name": "stdout",
     "output_type": "stream",
     "text": [
      "['better than takeout sweet thai basil chicken', 'make ahead meatballs', 'thai-style coconut chicken', 'risotto with pancetta and shrimp (or lobster)']\n"
     ]
    }
   ],
   "source": [
    "# Confirm that subset loop works\n",
    "print([x['name'] for x in subset])"
   ]
  },
  {
   "cell_type": "markdown",
   "metadata": {},
   "source": [
    "Our subset loop does work: those are the 4 meals that contain chicken."
   ]
  },
  {
   "cell_type": "code",
   "execution_count": 19,
   "metadata": {},
   "outputs": [
    {
     "name": "stdout",
     "output_type": "stream",
     "text": [
      "A great meal with chicken is: thai-style coconut chicken\n"
     ]
    }
   ],
   "source": [
    "# Display a random meal\n",
    "import random\n",
    "choice = random.choice(subset)\n",
    "\n",
    "#Display choice\n",
    "print(\"A great meal with {} is: {}\".format(protein, choice['name']))"
   ]
  },
  {
   "cell_type": "markdown",
   "metadata": {},
   "source": [
    "Display part works well."
   ]
  },
  {
   "cell_type": "code",
   "execution_count": 20,
   "metadata": {},
   "outputs": [],
   "source": [
    "# Remove the chosen meal from the subset, in case we need to select from remaining meals\n",
    "subset.remove(choice)\n",
    "\n",
    "### Aha - fixed the issue here. This is good to go now"
   ]
  },
  {
   "cell_type": "code",
   "execution_count": 22,
   "metadata": {},
   "outputs": [
    {
     "name": "stdout",
     "output_type": "stream",
     "text": [
      "['better than takeout sweet thai basil chicken', 'make ahead meatballs', 'risotto with pancetta and shrimp (or lobster)']\n"
     ]
    }
   ],
   "source": [
    "print([x['name'] for x in subset])"
   ]
  },
  {
   "cell_type": "code",
   "execution_count": 25,
   "metadata": {},
   "outputs": [
    {
     "name": "stdout",
     "output_type": "stream",
     "text": [
      "Do you want to make that meal (y) or get another option(n)?\n",
      "Enter 'y' or 'n': n\n"
     ]
    }
   ],
   "source": [
    "# Give them a choice to accept or get another recommendation\n",
    "print(\"Do you want to make that meal (y) or get another option(n)?\")\n",
    "accept = input(\"Enter 'y' or 'n': \").lower().strip()"
   ]
  },
  {
   "cell_type": "code",
   "execution_count": 24,
   "metadata": {},
   "outputs": [
    {
     "name": "stdout",
     "output_type": "stream",
     "text": [
      "Here are the details for thai-style coconut chicken\n"
     ]
    }
   ],
   "source": [
    "# If they want that meal, display details\n",
    "if accept == 'y':\n",
    "    # placeholder\n",
    "    print(\"Here are the details for {}\".format(choice['name']))\n",
    "    ### run the meal_details() function - still to be created"
   ]
  },
  {
   "cell_type": "code",
   "execution_count": 28,
   "metadata": {},
   "outputs": [
    {
     "name": "stdout",
     "output_type": "stream",
     "text": [
      "Another great meal with chicken is: make ahead meatballs\n",
      "-----------------------------------------------------------\n",
      "Do you want to make that meal (y) or get another option(n)?\n",
      "Enter 'y' or 'n': n\n"
     ]
    }
   ],
   "source": [
    "if accept == 'n':\n",
    "    # offer another random meal then remove that from what's left\n",
    "    choice = random.choice(subset)\n",
    "    subset.remove(choice)\n",
    "\n",
    "    print(\"Another great meal with {} is: {}\".format(protein, choice['name']))\n",
    "    print(\"-----------------------------------------------------------\")\n",
    "    print(\"Do you want to make that meal (y) or get another option(n)?\")\n",
    "    accept = input(\"Enter 'y' or 'n': \").lower().strip()"
   ]
  },
  {
   "cell_type": "code",
   "execution_count": 29,
   "metadata": {},
   "outputs": [
    {
     "name": "stdout",
     "output_type": "stream",
     "text": [
      "['better than takeout sweet thai basil chicken', 'risotto with pancetta and shrimp (or lobster)']\n"
     ]
    }
   ],
   "source": [
    "# check subset\n",
    "print([x['name'] for x in subset])"
   ]
  },
  {
   "cell_type": "code",
   "execution_count": 30,
   "metadata": {},
   "outputs": [],
   "source": [
    "subset = []"
   ]
  },
  {
   "cell_type": "code",
   "execution_count": 33,
   "metadata": {},
   "outputs": [],
   "source": [
    "assert len(subset) == 0"
   ]
  },
  {
   "cell_type": "code",
   "execution_count": 34,
   "metadata": {},
   "outputs": [
    {
     "name": "stdout",
     "output_type": "stream",
     "text": [
      "subset is empty\n"
     ]
    }
   ],
   "source": [
    "if not subset:\n",
    "    print('subset is empty')"
   ]
  },
  {
   "cell_type": "code",
   "execution_count": 35,
   "metadata": {},
   "outputs": [
    {
     "ename": "SyntaxError",
     "evalue": "invalid syntax (<ipython-input-35-bffc0de683da>, line 8)",
     "output_type": "error",
     "traceback": [
      "\u001b[1;36m  File \u001b[1;32m\"<ipython-input-35-bffc0de683da>\"\u001b[1;36m, line \u001b[1;32m8\u001b[0m\n\u001b[1;33m    while accept\u001b[0m\n\u001b[1;37m                ^\u001b[0m\n\u001b[1;31mSyntaxError\u001b[0m\u001b[1;31m:\u001b[0m invalid syntax\n"
     ]
    }
   ],
   "source": [
    "# create subset\n",
    "\n",
    "# while subset (i.e. as long as subset is True)\n",
    "\n",
    "    # while decline"
   ]
  },
  {
   "cell_type": "code",
   "execution_count": 18,
   "metadata": {},
   "outputs": [],
   "source": [
    "# 1) Create the subset based on user choice\n",
    "subset = []\n",
    "for meal in meals:\n",
    "    for ingredient in meal['ingredients'].keys():\n",
    "        if protein in ingredient:\n",
    "            subset.append(meal)\n",
    "            break\n",
    "        else:\n",
    "            continue"
   ]
  },
  {
   "cell_type": "code",
   "execution_count": 19,
   "metadata": {},
   "outputs": [
    {
     "name": "stdout",
     "output_type": "stream",
     "text": [
      "A great meal with chicken is: risotto with pancetta and shrimp (or lobster)\n",
      "-----------------------------------------------------------\n",
      "Do you want to make that meal (y) or get another option(n)?\n",
      "Enter 'y' or 'n': n\n",
      "Another great meal with chicken is: better than takeout sweet thai basil chicken\n",
      "-----------------------------------------------------------\n",
      "Do you want to make that meal (y) or get another option(n)?\n",
      "Enter 'y' or 'n': n\n",
      "Another great meal with chicken is: make ahead meatballs\n",
      "-----------------------------------------------------------\n",
      "Do you want to make that meal (y) or get another option(n)?\n",
      "Enter 'y' or 'n': n\n",
      "Another great meal with chicken is: thai-style coconut chicken\n",
      "-----------------------------------------------------------\n",
      "Do you want to make that meal (y) or get another option(n)?\n",
      "Enter 'y' or 'n': n\n",
      "There are no more meals with chicken left.\n",
      "Maybe you'd prefer something else?\n"
     ]
    },
    {
     "ename": "NameError",
     "evalue": "name 'get_recommendation' is not defined",
     "output_type": "error",
     "traceback": [
      "\u001b[1;31m---------------------------------------------------------------------------\u001b[0m",
      "\u001b[1;31mNameError\u001b[0m                                 Traceback (most recent call last)",
      "\u001b[1;32m<ipython-input-19-b12e399803e4>\u001b[0m in \u001b[0;36m<module>\u001b[1;34m\u001b[0m\n\u001b[0;32m     31\u001b[0m             \u001b[0mprint\u001b[0m\u001b[1;33m(\u001b[0m\u001b[1;34m\"There are no more meals with {} left.\"\u001b[0m\u001b[1;33m.\u001b[0m\u001b[0mformat\u001b[0m\u001b[1;33m(\u001b[0m\u001b[0mprotein\u001b[0m\u001b[1;33m)\u001b[0m\u001b[1;33m)\u001b[0m\u001b[1;33m\u001b[0m\u001b[1;33m\u001b[0m\u001b[0m\n\u001b[0;32m     32\u001b[0m             \u001b[0mprint\u001b[0m\u001b[1;33m(\u001b[0m\u001b[1;34m\"Maybe you'd prefer something else?\"\u001b[0m\u001b[1;33m)\u001b[0m\u001b[1;33m\u001b[0m\u001b[1;33m\u001b[0m\u001b[0m\n\u001b[1;32m---> 33\u001b[1;33m             \u001b[0mget_recommendation\u001b[0m\u001b[1;33m(\u001b[0m\u001b[1;33m)\u001b[0m\u001b[1;33m\u001b[0m\u001b[1;33m\u001b[0m\u001b[0m\n\u001b[0m\u001b[0;32m     34\u001b[0m \u001b[1;33m\u001b[0m\u001b[0m\n\u001b[0;32m     35\u001b[0m         \u001b[1;31m# update ticker\u001b[0m\u001b[1;33m\u001b[0m\u001b[1;33m\u001b[0m\u001b[1;33m\u001b[0m\u001b[0m\n",
      "\u001b[1;31mNameError\u001b[0m: name 'get_recommendation' is not defined"
     ]
    }
   ],
   "source": [
    "# 2) While loop - keeps offering new options until they either accept a meal or run out of options\n",
    "import random\n",
    "# To change message dispalyed\n",
    "ticker = 0\n",
    "\n",
    "while True:\n",
    "        # Get initial recommendation\n",
    "        recommendation = random.choice(subset)\n",
    "        \n",
    "        # Remove that meal from subset\n",
    "        subset.remove(recommendation)\n",
    "        \n",
    "        # Display choice and ask for confirmation\n",
    "        if ticker == 0:\n",
    "            print(\"A great meal with {} is: {}\".format(protein, recommendation['name']))\n",
    "        else:\n",
    "            print(\"Another great meal with {} is: {}\".format(protein, recommendation['name']))\n",
    "        print(\"-----------------------------------------------------------\")\n",
    "        print(\"Do you want to make that meal (y) or get another option(n)?\")\n",
    "        confirm = input(\"Enter 'y' or 'n': \").lower().strip()\n",
    "        \n",
    "        # Either keep loop going, or end it\n",
    "        if confirm == 'y':\n",
    "            # placeholder - will get replaced with meal_details() function\n",
    "            print(\"Here are the details for {}\".format(recommendation['name']))\n",
    "            break\n",
    "            \n",
    "        # Check if any meals are left in the subset\n",
    "        if not subset:\n",
    "            # If it's empty, go back to select protein\n",
    "            print(\"There are no more meals with {} left.\".format(protein))\n",
    "            print(\"Maybe you'd prefer something else?\")\n",
    "            get_recommendation()\n",
    "            \n",
    "        # update ticker\n",
    "        ticker += 1"
   ]
  },
  {
   "cell_type": "code",
   "execution_count": null,
   "metadata": {},
   "outputs": [],
   "source": []
  }
 ],
 "metadata": {
  "kernelspec": {
   "display_name": "Python 3",
   "language": "python",
   "name": "python3"
  },
  "language_info": {
   "codemirror_mode": {
    "name": "ipython",
    "version": 3
   },
   "file_extension": ".py",
   "mimetype": "text/x-python",
   "name": "python",
   "nbconvert_exporter": "python",
   "pygments_lexer": "ipython3",
   "version": "3.7.6"
  }
 },
 "nbformat": 4,
 "nbformat_minor": 4
}
