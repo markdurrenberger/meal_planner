{
 "cells": [
  {
   "cell_type": "markdown",
   "metadata": {},
   "source": [
    "This notebook will be for creating a scraper to get meals from Tina's favorite places. Be sure to add a tag to each for where the meals are from.\n",
    "\n",
    "This will just be used to save us the time of manually uploading them all up front."
   ]
  },
  {
   "cell_type": "code",
   "execution_count": 1,
   "metadata": {},
   "outputs": [],
   "source": [
    "import json\n",
    "import pickle\n",
    "import os"
   ]
  },
  {
   "cell_type": "code",
   "execution_count": 2,
   "metadata": {},
   "outputs": [
    {
     "data": {
      "text/plain": [
       "['.git',\n",
       " '.ipynb_checkpoints',\n",
       " 'Beebes Meal Planner',\n",
       " 'beebes_apps_logo',\n",
       " 'debug.log',\n",
       " 'functions.py',\n",
       " 'meals.pkl',\n",
       " 'meal_planner_app.ipynb',\n",
       " 'meal_scraper.ipynb',\n",
       " 'README.txt',\n",
       " 'Troubleshooting.ipynb',\n",
       " '__pycache__']"
      ]
     },
     "execution_count": 2,
     "metadata": {},
     "output_type": "execute_result"
    }
   ],
   "source": [
    "os.listdir()"
   ]
  },
  {
   "cell_type": "code",
   "execution_count": 82,
   "metadata": {},
   "outputs": [],
   "source": [
    "# Load meals so far\n",
    "f = open('meals.pkl', 'rb')\n",
    "meals = pickle.load(f)"
   ]
  },
  {
   "cell_type": "code",
   "execution_count": 55,
   "metadata": {},
   "outputs": [
    {
     "data": {
      "text/plain": [
       "13"
      ]
     },
     "execution_count": 55,
     "metadata": {},
     "output_type": "execute_result"
    }
   ],
   "source": [
    "len(meals)"
   ]
  },
  {
   "cell_type": "code",
   "execution_count": 56,
   "metadata": {},
   "outputs": [
    {
     "data": {
      "text/plain": [
       "{'name': 'better than takeout sweet thai basil chicken',\n",
       " 'ingredients': {'ground chicken': '1 pound',\n",
       "  'seasame oil': '2 tablespoons',\n",
       "  'black pepper': 'to taste',\n",
       "  'garlic': '4 cloves',\n",
       "  'ginger': '1 inch, grated',\n",
       "  'bell pepper, red or orange': '2, chopped',\n",
       "  'cashews': '1/2 cup',\n",
       "  'soy sauce, low sodium': '1/2 cup',\n",
       "  'fish sauce': '2 tablespoons',\n",
       "  'honey': '1/4 cup',\n",
       "  'chili paste, sambal oelek': '2-3 tablespoons',\n",
       "  'basil': '1 cup, torn',\n",
       "  'mint': '1/4 cup, torn',\n",
       "  'rice, white or brown': 'as needed',\n",
       "  'mango': '1, sliced or diced'},\n",
       " 'instructions': {1: 'Heat the oil in a large skillet over medium heat. When the oil shimmers, add the chicken. Season with black pepper and brown all over, breaking the chicken up as it cooks, about 5 minutes. Add the garlic, ginger, peppers, and cashews, cook another 2-3 minutes, until the garlic is fragrant. Pour in the soy sauce, fish sauce, chili paste, and honey. Bring the sauce to a boil over medium-high heat and cook until the sauce coats the chicken, about 5-8 minutes.',\n",
       "  2: 'Remove from the heat and stir in the basil and mint.',\n",
       "  3: 'Serve the chicken and sauce over bowls of rice. Top with mangos and additional basil. Enjoy!'},\n",
       " 'cuisine': ['thai', 'asian'],\n",
       " 'tags': ['easy leftovers', 'one pot meal', 'spicy']}"
      ]
     },
     "metadata": {},
     "output_type": "display_data"
    }
   ],
   "source": [
    "# Remember format of meal data\n",
    "display(meals[0])"
   ]
  },
  {
   "cell_type": "code",
   "execution_count": 6,
   "metadata": {},
   "outputs": [],
   "source": [
    "# Imports\n",
    "import urllib.request\n",
    "from bs4 import BeautifulSoup"
   ]
  },
  {
   "cell_type": "code",
   "execution_count": 7,
   "metadata": {},
   "outputs": [],
   "source": [
    "# Specify url to scrape\n",
    "url = 'https://www.skinnytaste.com/recipes/dinner-recipes/'"
   ]
  },
  {
   "cell_type": "code",
   "execution_count": 8,
   "metadata": {},
   "outputs": [],
   "source": [
    "# User Agent (provides details of web browser to server so it knows traffic is legit)\n",
    "user_agent = 'Mozilla/5.0 (Windows NT 10.0; Win64; x64) AppleWebKit/537.36 (KHTML, like Gecko) Chrome/70.0.3538.77 Safari/537.36'"
   ]
  },
  {
   "cell_type": "code",
   "execution_count": 9,
   "metadata": {},
   "outputs": [],
   "source": [
    "# Request the page data with user_agent\n",
    "req = urllib.request.Request(\n",
    "    url, \n",
    "    data=None, \n",
    "    headers={\n",
    "        'User-Agent': user_agent\n",
    "    }\n",
    ")"
   ]
  },
  {
   "cell_type": "code",
   "execution_count": 10,
   "metadata": {},
   "outputs": [],
   "source": [
    "# open the url data and save to page\n",
    "page = urllib.request.urlopen(req)"
   ]
  },
  {
   "cell_type": "code",
   "execution_count": 11,
   "metadata": {},
   "outputs": [],
   "source": [
    "# Use BeautifulSoup to parse the HTMl data\n",
    "soup = BeautifulSoup(page, 'lxml')"
   ]
  },
  {
   "cell_type": "markdown",
   "metadata": {},
   "source": [
    "Now that I have my soup object, need to examine the HTML set up of the page and find the HTML objects I'm looking for (aka the meals). The goal will be to create a list of all the meals on the page, then go through each meal and extract the details, storing them in a dictionary and storing each dictionary in a list.\n",
    "\n",
    "__Note to future self:__\n",
    "Use the Google Inspect tool (right click an element on webpage and choose \"Inspect\" to highlight it in HTML code)"
   ]
  },
  {
   "cell_type": "code",
   "execution_count": 12,
   "metadata": {},
   "outputs": [],
   "source": [
    "# Initalize storage\n",
    "\n",
    "#This is where I'll store the initial list of all the meals on the page\n",
    "meals_to_scrape = []\n",
    "\n",
    "# This is where I'll store the meal dicts to be combined with the rest of my meals\n",
    "meals_scraped = []"
   ]
  },
  {
   "cell_type": "code",
   "execution_count": 13,
   "metadata": {},
   "outputs": [],
   "source": [
    "# Identify the HTML objects on the page that I need\n",
    "    ### USED Google Chrome right-click \"Inspect\" to find the class of div I need\n",
    "\n",
    "# this is storing all of the archived posts on the page (there are many pages of archives though...)\n",
    "table = soup.findAll('div', \n",
    "                          {'class' :'archive-post'})"
   ]
  },
  {
   "cell_type": "code",
   "execution_count": 14,
   "metadata": {},
   "outputs": [],
   "source": [
    "# Create a list of all the meals on the page\n",
    "\n",
    "# In general, you make a table of all the elements you want, then can access various parts of them in a loop as below:\n",
    "# Here I am finding the first link ('a') and accessing the text portion of it (which is the name of the meal)\n",
    "for x in table:\n",
    "    # for troubleshooting as I set this up - to make sure I was getting desired details\n",
    "    #print(x.find('a').text)\n",
    "    meals_to_scrape.append(x.find('a').text)"
   ]
  },
  {
   "cell_type": "markdown",
   "metadata": {},
   "source": [
    "## Other Pages with Dinner Meals\n",
    "\n",
    "So far I've got the meals from the first page of dinner meals. Following pages are displayed as:\n",
    "\n",
    "https://www.skinnytaste.com/recipes/dinner-recipes/page/3/\n",
    "\n",
    "with the number at the end increasing until there are no more meals.\n",
    "\n",
    "I'll create a loop that does everything above. There are 21 pages."
   ]
  },
  {
   "cell_type": "code",
   "execution_count": 21,
   "metadata": {},
   "outputs": [
    {
     "data": {
      "text/plain": [
       "30"
      ]
     },
     "execution_count": 21,
     "metadata": {},
     "output_type": "execute_result"
    }
   ],
   "source": [
    "# Check meals_to_scrape from first page (to compare to our final list)\n",
    "len(meals_to_scrape)"
   ]
  },
  {
   "cell_type": "code",
   "execution_count": 22,
   "metadata": {},
   "outputs": [],
   "source": [
    "# Set loop to go through each page\n",
    "for i in range(1,21):\n",
    "    # Set URL based on counter\n",
    "    url = 'https://www.skinnytaste.com/recipes/dinner-recipes/page/{}/'.format(str(i+1))\n",
    "    \n",
    "    # Request the page data with user_agent\n",
    "    req = urllib.request.Request(\n",
    "        url, \n",
    "        data=None, \n",
    "        headers={\n",
    "            'User-Agent': user_agent\n",
    "        }\n",
    "    )\n",
    "    \n",
    "    # open the url data and save to page\n",
    "    page = urllib.request.urlopen(req)\n",
    "    \n",
    "    # Use BeautifulSoup to parse the HTMl data\n",
    "    soup = BeautifulSoup(page, 'lxml')\n",
    "    \n",
    "    table = soup.findAll('div', \n",
    "                        {'class' :'archive-post'})\n",
    "    \n",
    "    for x in table:\n",
    "        meals_to_scrape.append(x.find('a').text)"
   ]
  },
  {
   "cell_type": "code",
   "execution_count": 23,
   "metadata": {},
   "outputs": [
    {
     "data": {
      "text/plain": [
       "610"
      ]
     },
     "execution_count": 23,
     "metadata": {},
     "output_type": "execute_result"
    }
   ],
   "source": [
    "# Check new list of meals_to_scrape\n",
    "len(meals_to_scrape)"
   ]
  },
  {
   "cell_type": "markdown",
   "metadata": {},
   "source": [
    "## Meal Details Function\n",
    "\n",
    "I'll need a function that takes the name of a meal, then goes to the website and parses the details for that meal into my dictionary format.\n",
    "\n",
    "To do this I'll need to spend time understanding the layout of each meal page on the site.\n",
    "\n",
    "I'll also need to keep in mind the desired end format of my dictionary for meal details.\n",
    "\n",
    "---\n",
    "Then this function will be used to loop through the list, meals_to_scrape, to get all the details of the meals."
   ]
  },
  {
   "cell_type": "code",
   "execution_count": 24,
   "metadata": {},
   "outputs": [],
   "source": [
    "# Create a function that takes the meal name, and returns the format for the website link\n",
    "# this will be used inside my get_meal_details() function\n",
    "def name_to_link(name):\n",
    "    return name.strip().lower().replace(' ','-')"
   ]
  },
  {
   "cell_type": "code",
   "execution_count": 25,
   "metadata": {},
   "outputs": [],
   "source": [
    "# Create a function that takes in the name of a meal, then returns a dictionary with the details of that meal\n",
    "\n",
    "### This function took a while to build...don't lose it!\n",
    "\n",
    "def get_meal_details(name, blog_name):    \n",
    "    # turn the name of the meal into the website link\n",
    "    link = name_to_link(name)\n",
    "    \n",
    "    ### The problem with having this as an input is that each blog is set up differently, probably need a \n",
    "    ### separate function for each.\n",
    "    blogs_dict={'skinny taste': 'https://www.skinnytaste.com/'}\n",
    "    \n",
    "    # go to that webpage\n",
    "    url = blogs_dict[blog_name.lower()]+link\n",
    "    \n",
    "    \n",
    "    # Request the page data with user_agent\n",
    "    req = urllib.request.Request(\n",
    "        url, \n",
    "        data=None, \n",
    "        headers={\n",
    "            'User-Agent': user_agent\n",
    "                }\n",
    "    )\n",
    "    \n",
    "    # open the url data and save to page\n",
    "    page = urllib.request.urlopen(req)\n",
    "    \n",
    "    # Use BeautifulSoup to parse the HTMl data\n",
    "    soup = BeautifulSoup(page, 'lxml')\n",
    "    \n",
    "    # Get the class 'wprm-recipe-container'\n",
    "    x = soup.find('div',{'class':'wprm-recipe-container'})\n",
    "    \n",
    "    ### Details to return\n",
    "    \n",
    "    # Meal name:\n",
    "    name = x.h2.text\n",
    "    \n",
    "    # Ingredients:\n",
    "    ingredients = []\n",
    "\n",
    "    # Access the ingredient area (a ul)\n",
    "    table = soup.find('div',{'class':'wprm-recipe-ingredient-group'})\n",
    "\n",
    "    # For each li in ul, append to ingredients\n",
    "    for x in table:\n",
    "        for li in x.findAll('li'):\n",
    "            ingredients.append(li.text)\n",
    "    \n",
    "    # Instructions\n",
    "    instructions = []\n",
    "\n",
    "    table = soup.find('div',class_='wprm-recipe-instructions-container')\n",
    "\n",
    "    for x in table:\n",
    "        for li in x.findAll('li'):\n",
    "            instructions.append(li.text)\n",
    "    \n",
    "    # Cuisine\n",
    "    cuisine = []\n",
    "    cuisine.append(soup.find('span',{'class':'wprm-recipe-cuisine wprm-block-text-normal'}).text.lower())\n",
    "    \n",
    "    # Tags\n",
    "    tags = ['skinny taste']\n",
    "    \n",
    "    \n",
    "    # Build it all into a dictionary\n",
    "    meal_dict = {'name':name,\n",
    "                'ingredients':ingredients,\n",
    "                'instructions':instructions,\n",
    "                'cuisine':cuisine,\n",
    "                'tags':tags}\n",
    "    \n",
    "    return meal_dict"
   ]
  },
  {
   "cell_type": "code",
   "execution_count": 26,
   "metadata": {},
   "outputs": [
    {
     "data": {
      "text/plain": [
       "{'name': 'Instant Pot Baked Ziti',\n",
       " 'ingredients': ['1 teaspoon olive oil',\n",
       "  '3 garlic cloves, smashed with the side of a knife',\n",
       "  '2 cups chopped baby spinach',\n",
       "  '2 cups water',\n",
       "  '3/4 teaspoon Kosher salt',\n",
       "  '10 ounces Delallo whole wheat pasta such as ziti or cavatappi, about 3 cups ',\n",
       "  '2 cups homemade or jarred marinara sauce',\n",
       "  '1/2 cup part skim ricotta',\n",
       "  '1/4 cup grated Pecorino Romano',\n",
       "  '1 cup part-skim mozzarella cheese, grated'],\n",
       " 'instructions': ['Using the saute button, when hot add the oil and garlic; stir 1 minute, or until golden.',\n",
       "  'Add water and salt to the pot to deglaze, making sure the garlic is not stuck to the bottom of the pot.',\n",
       "  'Add spinach and pasta and stir.',\n",
       "  \"Pour the marinara sauce evenly over the uncooked pasta, making sure it's covering all the pasta. Do not stir.\",\n",
       "  'Cover and cook high pressure 7 minutes.',\n",
       "  'Quick release, then open the lid, stir the pasta, dollop in the ricotta, top with Pecorino and the mozzarella.',\n",
       "  'Cover the lid 3 to 4 minutes, until the cheese melts.'],\n",
       " 'cuisine': ['italian'],\n",
       " 'tags': ['skinny taste']}"
      ]
     },
     "metadata": {},
     "output_type": "display_data"
    }
   ],
   "source": [
    "# Testing my function\n",
    "display(get_meal_details('instant pot baked ziti','skinny taste'))"
   ]
  },
  {
   "cell_type": "markdown",
   "metadata": {},
   "source": [
    "## Awesome! - Loop through list of meals\n",
    "\n",
    "So that function works. \n",
    "\n",
    "Now just need to loop through the names from original list and call the function on each name."
   ]
  },
  {
   "cell_type": "code",
   "execution_count": 27,
   "metadata": {},
   "outputs": [],
   "source": [
    "# Loop through all the meals in my list of meals to scrape\n",
    "for meal in meals_to_scrape:\n",
    "    try:\n",
    "        meals_scraped.append(get_meal_details(meal, 'skinny taste'))\n",
    "    except:\n",
    "        continue"
   ]
  },
  {
   "cell_type": "code",
   "execution_count": 29,
   "metadata": {},
   "outputs": [
    {
     "name": "stdout",
     "output_type": "stream",
     "text": [
      "387\n"
     ]
    },
    {
     "data": {
      "text/plain": [
       "[{'name': 'Instant Pot Baked Ziti',\n",
       "  'ingredients': ['1 teaspoon olive oil',\n",
       "   '3 garlic cloves, smashed with the side of a knife',\n",
       "   '2 cups chopped baby spinach',\n",
       "   '2 cups water',\n",
       "   '3/4 teaspoon Kosher salt',\n",
       "   '10 ounces Delallo whole wheat pasta such as ziti or cavatappi, about 3 cups ',\n",
       "   '2 cups homemade or jarred marinara sauce',\n",
       "   '1/2 cup part skim ricotta',\n",
       "   '1/4 cup grated Pecorino Romano',\n",
       "   '1 cup part-skim mozzarella cheese, grated'],\n",
       "  'instructions': ['Using the saute button, when hot add the oil and garlic; stir 1 minute, or until golden.',\n",
       "   'Add water and salt to the pot to deglaze, making sure the garlic is not stuck to the bottom of the pot.',\n",
       "   'Add spinach and pasta and stir.',\n",
       "   \"Pour the marinara sauce evenly over the uncooked pasta, making sure it's covering all the pasta. Do not stir.\",\n",
       "   'Cover and cook high pressure 7 minutes.',\n",
       "   'Quick release, then open the lid, stir the pasta, dollop in the ricotta, top with Pecorino and the mozzarella.',\n",
       "   'Cover the lid 3 to 4 minutes, until the cheese melts.'],\n",
       "  'cuisine': ['italian'],\n",
       "  'tags': ['skinny taste']},\n",
       " {'name': 'Shrimp & Andouille Sheet Pan Roast',\n",
       "  'ingredients': ['¾ pound large shrimp, peeled',\n",
       "   '2 Tbsp olive oil, divided',\n",
       "   '1 ½ tsp Creole seasoning, divided',\n",
       "   '1 small head broccoli',\n",
       "   '5 oz Baby Bella mushrooms',\n",
       "   '2 to 3 stalks celery',\n",
       "   '1 red bell pepper, sliced',\n",
       "   '½ large red onion, sliced',\n",
       "   '¾ pound smoked sausage, preferably andouille, sliced',\n",
       "   '½ tsp garlic powder',\n",
       "   '¼ tsp cayenne pepper',\n",
       "   '1 lemon , for serving',\n",
       "   'Steamed rice, optional for serving'],\n",
       "  'instructions': ['Preheat the oven to 400F.',\n",
       "   'If you’re using frozen shrimp, thaw it completely and drain as much water as possible, using a paper towel to pat it dry. ',\n",
       "   'Toss to coat with 1 Tbsp olive oil and ½ tsp Creole seasoning; set aside.',\n",
       "   'Cut the broccoli into florets, halve the mushroom caps (quarter the larger ones), and cut the celery into approximately 2-inch pieces.',\n",
       "   'Add them to a large rimmed baking sheet with the sliced bell pepper, onion, and smoked sausage.',\n",
       "   'Drizzle 1 Tbsp olive oil over the sheet pan and season with 1 tsp Creole seasoning, the garlic powder, and the cayenne. Toss to coat, then spread in an even layer.',\n",
       "   'Roast for 15 to 20 minutes, or until the vegetables are tender and the onions are just starting to brown around the edges.',\n",
       "   'Add the shrimp and roast for another 5 to 10 minutes, or until it’s firm, opaque, and cooked through.',\n",
       "   'To serve, zest the lemon and squeeze its juice over the roast.',\n",
       "   'Serve with steamed rice if you’d like.'],\n",
       "  'cuisine': ['cajun'],\n",
       "  'tags': ['skinny taste']},\n",
       " {'name': 'Harissa Chicken Meatballs',\n",
       "  'ingredients': ['1 pound ground chicken',\n",
       "   '1 teaspoon kosher salt',\n",
       "   '1/2 teaspoon smoked paprika',\n",
       "   '1/2 cup frozen riced cauliflower',\n",
       "   '1/4 cup chopped onion',\n",
       "   '1/4 cup packed chopped parsley',\n",
       "   '3 large peeled garlic cloves, minced',\n",
       "   '1 large egg',\n",
       "   'Olive-oil cooking spray',\n",
       "   '2 jars, 10 oz each prepared mild harissa sauce (I love Mina Harissa)'],\n",
       "  'instructions': ['Place chicken in a large mixing bowl, break- up slightly. Sprinkle with 1 teaspoon salt and smoked paprika.',\n",
       "   'Add frozen cauliflower, parsley, onion, garlic, and egg and mix just until ingredients are combined.\\xa0 Avoid over-mixing. Divide chicken mixture into 16 portions ( about 1 1/4 ounce each); gently shape into balls.',\n",
       "   'Heat a heavy-duty non-stick large skillet (with tall sides) over medium-high heat.',\n",
       "   'Spray with olive oil cooking spray, add meatballs and cook, turning occasionally to brown on all sides, about 6 minutes.',\n",
       "   'Pour in harissa and allow mixture to reach a simmer, reduce heat to medium-low and continue to simmer for 20 to 25 minutes.'],\n",
       "  'cuisine': ['mediterranean'],\n",
       "  'tags': ['skinny taste']},\n",
       " {'name': 'House Special Fried Rice\\xa0',\n",
       "  'ingredients': ['8 ounces peeled and deveined shrimp, chopped',\n",
       "   '6 ounces thin sliced chicken breast cutlet, sliced into 1/4 inch thin strips',\n",
       "   '6 ounces thin sliced sirloin steak, sliced into 1/4 inch thin strips',\n",
       "   '1/4 teaspoon kosher salt',\n",
       "   '2 1/2 teaspoons vegetable or canola oil, divided',\n",
       "   '1 tablespoon chopped fresh ginger',\n",
       "   '2 garlic cloves, chopped',\n",
       "   '4 medium scallions, thinly sliced, whites and greens separated',\n",
       "   '2 cups frozen riced cauliflower',\n",
       "   '3 cups cooked cold leftover brown rice, preferably short-grain',\n",
       "   '2 large eggs, beaten',\n",
       "   '2 tablespoons soy sauce, or gluten-free Tamari',\n",
       "   '1 tablespoon rice vinegar',\n",
       "   '1 1/2 teaspoons toasted sesame oil',\n",
       "   'Sriracha or Chile-garlic sauce, optional for serving'],\n",
       "  'instructions': ['The easiest way to get the chicken and steak sliced into thin strips is to roll the thin piece of meat, then slice it.',\n",
       "   'Season the shrimp, chicken and steak with salt.',\n",
       "   'Heat a large nonstick wok or deep skillet over medium-high heat. When hot spritz with oil and add the steak, cook about 2 to 3 minutes turning halfway then set aside on a plate.',\n",
       "   'Add the chicken, cook 2 to 3 minutes, stirring and set aside with the beef.',\n",
       "   'Add the shrimp and cook 2 to 3 minutes, stirring. Set aside with the other meat.',\n",
       "   'Heat 1 teaspoon of the oil in a large nonstick wok or deep skillet over medium- high.',\n",
       "   'Add ginger, garlic and the scallion whites and cook, stirring, until fragrant, about 1 minute. Add the cauliflower and cook, stirring occasionally, until heated, 3 to 4 minutes. Push to one side.',\n",
       "   'Add the remaining 1/2 tablespoon oil and swirl around the skillet to evenly transfer, add the cooked rice in an even layer.',\n",
       "   'Cook, without stirring, 2 to 3 minutes, or until the bottom becomes slightly crispy.',\n",
       "   'Continue to cook, stirring occasionally, 1 to 2 minutes, or until combined.',\n",
       "   'With a spoon or spatula, push the rice to one side of the wok or skillet. Crack the eggs onto the other side.',\n",
       "   'Cook, constantly stirring the egg, 30 to 60 seconds or until cooked through. Mix the rice and egg to thoroughly combine.',\n",
       "   'Return the reserved shrimp, steak and chicken and scallion greens to the skillet and toss until warmed.',\n",
       "   'Stir in the soy sauce, rice vinegar and sesame oil.',\n",
       "   'Serve immediately. Serve with sriracha sauce, if desired.'],\n",
       "  'cuisine': ['chinese'],\n",
       "  'tags': ['skinny taste']},\n",
       " {'name': 'Salmon Coconut Curry with Spinach and Chickpeas',\n",
       "  'ingredients': ['1/2 teaspoon kosher salt, plus more to taste',\n",
       "   '1/4 teaspoon freshly ground black pepper',\n",
       "   '4  6-ounce skin-on salmon filets',\n",
       "   '2 teaspoons olive oil, divided',\n",
       "   '1 small onion, diced (about 1 small)',\n",
       "   '3 peeled garlic cloves, grated',\n",
       "   '1  2-inch piece peeled ginger, grated',\n",
       "   '1 large Fresno chili, finely diced',\n",
       "   '1  15-oz can chickpeas, rinsed and drained',\n",
       "   '1 1/2 teaspoons Madras curry powder',\n",
       "   '1  14-ounce can light coconut milk',\n",
       "   '5 ounces baby spinach'],\n",
       "  'instructions': ['Season both sides of salmon with 1/2 teaspoon salt and 1/4 teaspoon black pepper. Set aside on a plate.',\n",
       "   'Heat 1 teaspoon oil in a large skillet over medium-high heat. Spray with oil to fully coat the bottom of the pan. ',\n",
       "   'Add salmon to the pan, skin-side down, and cook without disturbing until skin is crispy, 5 to 6 minutes.',\n",
       "   'Return to the plate (skin-side up) and set aside.',\n",
       "   'Add remaining teaspoon of oil, then add onions, garlic, ginger, and Fresno chili pepper; cook, stirring, for 2 minutes. ',\n",
       "   'Add chickpeas and curry powder and continue to cook, stirring, for 2 minutes more.',\n",
       "   'Reduce heat to medium-low, add coconut milk, stirring, to release any browned bits stuck to the pan.',\n",
       "   'Stir in spinach and 1/2 teaspoon salt\\xa0. Cover the pan and cook 2 minutes until spinach wilts.',\n",
       "   'Add the salmon, skin-side-up, and cook until fish is done, about 5 to 6 minutes.'],\n",
       "  'cuisine': ['indian'],\n",
       "  'tags': ['skinny taste']}]"
      ]
     },
     "metadata": {},
     "output_type": "display_data"
    }
   ],
   "source": [
    "print(len(meals_scraped))\n",
    "display(meals_scraped[:5])"
   ]
  },
  {
   "cell_type": "markdown",
   "metadata": {},
   "source": [
    "### Note: Change original file data structure\n",
    "\n",
    "I need to change my meal format so ingredients and instructions are just lists for now."
   ]
  },
  {
   "cell_type": "code",
   "execution_count": 75,
   "metadata": {},
   "outputs": [
    {
     "data": {
      "text/plain": [
       "{'name': 'slow roasted beef',\n",
       " 'ingredients': {'chuck beef roast': '3-4 pounds',\n",
       "  'giardinera (mild)': '1 jar',\n",
       "  'giardinera (hot)': '1 small jar',\n",
       "  'beef broth': '1 can'},\n",
       " 'instructions': {1: 'drain the jars of giardinera oil in a strainer, then put everything in crock pot.',\n",
       "  2: 'cook on high in crock pot for 5 hours.'},\n",
       " 'cuisine': ['american'],\n",
       " 'tags': ['slow cooker']}"
      ]
     },
     "execution_count": 75,
     "metadata": {},
     "output_type": "execute_result"
    }
   ],
   "source": [
    "# Check the data types of my current meals\n",
    "meals[1]"
   ]
  },
  {
   "cell_type": "code",
   "execution_count": 83,
   "metadata": {},
   "outputs": [],
   "source": [
    "# Need to change ingredients and instructions into simple lists\n",
    "\n",
    "# Ingredients - turn them into value + key\n",
    "for i, meal in enumerate(meals):\n",
    "    new_ingredients = []\n",
    "    new_instructions = []\n",
    "    \n",
    "    # Take the ingredients, turn them into a string of value + key and append to new_ingredients\n",
    "    for x,y in zip(meal['ingredients'].values(),meal['ingredients'].keys()):\n",
    "        new_ingredients.append(x+' '+y)\n",
    "\n",
    "    meals[i]['ingredients']=new_ingredients\n",
    "    \n",
    "    # Take the instructions, turn the values into a printed list\n",
    "    for x in meal['instructions'].values():\n",
    "        new_instructions.append(x)\n",
    "        \n",
    "    meals[i]['instructions'] = new_instructions"
   ]
  },
  {
   "cell_type": "code",
   "execution_count": 77,
   "metadata": {},
   "outputs": [
    {
     "data": {
      "text/plain": [
       "{'name': 'bison lettuce cups with garnet yam home fries',\n",
       " 'ingredients': ['2 unpeeled yams, well scrubbed',\n",
       "  '2 teaspoons sunflower oil',\n",
       "  '1 1/2 teaspoons sea salt',\n",
       "  '1 teaspoon five spice powder',\n",
       "  '1 teaspoon coconut oil',\n",
       "  '1 pound ground bison (buffalo)',\n",
       "  '1, chopped white onion, small',\n",
       "  '2 carrots, shredded',\n",
       "  '1 yellow summer squash or zucchini',\n",
       "  '2 tablespoons fresh oregano, chopped',\n",
       "  '2 tablespoons garlic powder',\n",
       "  '1 teaspoon sweet paprika',\n",
       "  '1/2 teaspoon black pepper',\n",
       "  '1/2 teaspoon cayenne pepper',\n",
       "  '1 large head lettuce',\n",
       "  '1/4 cup green onions, chopped'],\n",
       " 'instructions': ['preheat oven to 400',\n",
       "  'cut yams into fries. toss with sunflower oil, 1 teaspoon of salt, and five spice powder until well coated. spread the fries evenly on a baking pan. bake for 25 to 30 minutes, or until the fries start to brown and edges are becoming crispy. turn off the oven, leaving fries in there until ready to serve.',\n",
       "  'heat coconut oil in a large skillet over medium-high heat. crumble the bison into the skillet and continue to break it up with a spatula for 3-4 minutes. use slotted spoon to transfer bison to a bowl. add carrots and onions to the skillet and saute for 5 minutes. add the squash and return the bison to the skillet. stir in the oregano, garlic powder, paprika, remaining 1/2 teaspoon salt, pepper, and cayenne and saute for 3-4 minutes.',\n",
       "  'to serve, scoop a generous helping of the bison mixture into a lettuce leaf and top with green onions. repeat until you run out of filling or lettuce leaves. place a couple lettuce cups on each plate and stack some yam fries beside them.'],\n",
       " 'cuisine': ['whole 30', 'paleo'],\n",
       " 'tags': ['whole 30', 'paleo']}"
      ]
     },
     "execution_count": 77,
     "metadata": {},
     "output_type": "execute_result"
    }
   ],
   "source": [
    "meals[4]"
   ]
  },
  {
   "cell_type": "code",
   "execution_count": 85,
   "metadata": {},
   "outputs": [
    {
     "name": "stdout",
     "output_type": "stream",
     "text": [
      "387\n",
      "13\n"
     ]
    }
   ],
   "source": [
    "# Now join the meals and meals_scraped lists and save to file\n",
    "print(len(meals_scraped))\n",
    "print(len(meals))"
   ]
  },
  {
   "cell_type": "code",
   "execution_count": 84,
   "metadata": {},
   "outputs": [
    {
     "name": "stdout",
     "output_type": "stream",
     "text": [
      "400\n"
     ]
    }
   ],
   "source": [
    "meals_combined = meals + meals_scraped\n",
    "print(len(meals_combined))"
   ]
  },
  {
   "cell_type": "code",
   "execution_count": 88,
   "metadata": {},
   "outputs": [],
   "source": [
    "# Save new meals list to file\n",
    "f = open('meals.pkl', 'wb')\n",
    "pickle.dump(meals_combined, f)\n",
    "f.close()"
   ]
  },
  {
   "cell_type": "code",
   "execution_count": 90,
   "metadata": {},
   "outputs": [
    {
     "name": "stdout",
     "output_type": "stream",
     "text": [
      "<class 'list'>\n",
      "400\n"
     ]
    },
    {
     "data": {
      "text/plain": [
       "{'name': 'Detox Vegetable Soup',\n",
       " 'ingredients': ['1 sweet onion, chopped',\n",
       "  '1 carrot, chopped',\n",
       "  '3 stalks celery, chopped',\n",
       "  '5 cups chopped broccoli, florets and stalks',\n",
       "  '7 cups water, divided',\n",
       "  '1 teaspoon dried basil',\n",
       "  '1 teaspoon sea salt',\n",
       "  '1 cup raw cashews',\n",
       "  '2 cups cooked green lentils',\n",
       "  '2 cups packed baby spinach',\n",
       "  'Olive oil, for drizzling (optional)',\n",
       "  'Ground pepper, optional'],\n",
       " 'instructions': ['Place the onion, carrot, celery and broccoli in a large pot. Add 6 cups water, basil and salt to the pot and stir. Bring to a boil over high heat then cover and reduce heat to a low simmer.',\n",
       "  'Let simmer for 15 to 20 minutes or until broccoli is tender.',\n",
       "  'Meanwhile, in a blender, create your cashew cream. Blend together the cashews and remaining 1 cup water. (If you adjust the serving size, just keep the cashew to water ratio 1:1.)',\n",
       "  'Pour the cashew cream into the pot with the veggies and stir.',\n",
       "  ' Add the green lentils and stir again.',\n",
       "  'Add the spinach to the blender, and carefully (let the pot of veggies cool a bit first!) blend the soup in batches until smooth.',\n",
       "  'Ladle into bowls, drizzle lightly with olive oil and top with freshly ground pepper, if desired. Enjoy!'],\n",
       " 'cuisine': ['american'],\n",
       " 'tags': ['skinny taste']}"
      ]
     },
     "metadata": {},
     "output_type": "display_data"
    }
   ],
   "source": [
    "# Confirm that it worked\n",
    "f = open('meals.pkl', 'rb')\n",
    "test = pickle.load(f)\n",
    "\n",
    "print(type(test))\n",
    "print(len(test))\n",
    "display(test[28])"
   ]
  },
  {
   "cell_type": "code",
   "execution_count": null,
   "metadata": {},
   "outputs": [],
   "source": []
  }
 ],
 "metadata": {
  "kernelspec": {
   "display_name": "Python 3",
   "language": "python",
   "name": "python3"
  },
  "language_info": {
   "codemirror_mode": {
    "name": "ipython",
    "version": 3
   },
   "file_extension": ".py",
   "mimetype": "text/x-python",
   "name": "python",
   "nbconvert_exporter": "python",
   "pygments_lexer": "ipython3",
   "version": "3.7.6"
  }
 },
 "nbformat": 4,
 "nbformat_minor": 4
}
